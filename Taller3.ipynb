{
 "cells": [
  {
   "cell_type": "markdown",
   "metadata": {},
   "source": [
    "# Taller 3: la subsecuencia de suma máxima"
   ]
  },
  {
   "cell_type": "markdown",
   "metadata": {},
   "source": [
    "1.Implemente un algoritmo trivial para solucionar el problema en tiempo O(n^3)"
   ]
  },
  {
   "cell_type": "code",
   "execution_count": 1,
   "metadata": {
    "collapsed": false
   },
   "outputs": [
    {
     "name": "stdout",
     "output_type": "stream",
     "text": [
      "El arreglo random es: \n",
      "[32 81  4 11 59  2  4 69 83 99 78 10 40 22 99]\n"
     ]
    }
   ],
   "source": [
    "import math\n",
    "import pylab as pl\n",
    "import numpy as np\n",
    "\n",
    "tamArreglo = 15\n",
    "array = np.random.randint(2,100,(tamArreglo))\n",
    "print \"El arreglo random es: \"\n",
    "print array\n",
    "\n",
    "def trivial(array):\n",
    "    tam = len(array)\n",
    "    sup=0\n",
    "    \n",
    "    for i in range(tam):\n",
    "        for j in range(tam-i):\n",
    "            \n",
    "            acum = 0\n",
    "            k = i\n",
    "            \n",
    "            for k in range(j):\n",
    "                acum += array[k+i]\n",
    "                \n",
    "            if acum > sup:\n",
    "                sup = acum\n",
    "                \n",
    "    print sup"
   ]
  },
  {
   "cell_type": "code",
   "execution_count": 2,
   "metadata": {
    "collapsed": false
   },
   "outputs": [
    {
     "name": "stdout",
     "output_type": "stream",
     "text": [
      "594\n"
     ]
    }
   ],
   "source": [
    "trivial(array)"
   ]
  },
  {
   "cell_type": "markdown",
   "metadata": {},
   "source": [
    "2.Implemente un algoritmo dividir y conquistar para solucionar el problema en tiempo O(n\\log n), como lo sugirió en el parcial."
   ]
  },
  {
   "cell_type": "code",
   "execution_count": 3,
   "metadata": {
    "collapsed": true
   },
   "outputs": [],
   "source": [
    "def DivideConquer(arr):\n",
    "    vmax=0\n",
    "    if len(arr)>1:\n",
    "        aux1 = len(arr)\n",
    "        aux2 = arr[:aux1]\n",
    "        aux3 = arr[aux1:]\n",
    "        \n",
    "        if(len(aux2)==1 and len(aux3)==1):\n",
    "            sumar=aux2[0]+aux3[0]\n",
    "            vmax=sumar\n",
    "            return sup\n",
    "            \n",
    "        if(len(aux2)==1 and len(aux3)!=1):\n",
    "            vmax=DivideConquer(aux3)\n",
    "            sumar=aux2[0]+vmax\n",
    "            if(vmax>aux2[0] and vmax>sumar):\n",
    "                return vmax;\n",
    "            else:\n",
    "                if(sumar>aux2[0]):\n",
    "                    return sumar\n",
    "                else:\n",
    "                    return aux2[0]\n",
    "                \n",
    "        vmax=DivideConquer(aux2)\n",
    "        if(sup>0):\n",
    "            vmax=vmax+DivideConquer(aux3)\n",
    "        else:\n",
    "            vmax=DivideConquer(aux3)\n",
    "        \n",
    "    if(vmax>0):\n",
    "        return vmax\n",
    "    else:\n",
    "        return 0"
   ]
  },
  {
   "cell_type": "code",
   "execution_count": null,
   "metadata": {
    "collapsed": false
   },
   "outputs": [],
   "source": [
    "a = np.array([-2, 11, -4, 13,-5,-2])\n",
    "\n",
    "print(DivideConquer(a));"
   ]
  },
  {
   "cell_type": "markdown",
   "metadata": {},
   "source": [
    "3.Implemente el siguiente algoritmo (J.L. Bentley, 1989.)"
   ]
  },
  {
   "cell_type": "code",
   "execution_count": 5,
   "metadata": {
    "collapsed": true
   },
   "outputs": [],
   "source": [
    "def algortimoBentley(lista, l, h):\n",
    "    der = 0\n",
    "    izq = 0\n",
    "    \n",
    "    if(l > h):\n",
    "        return 0\n",
    "    \n",
    "    if(l == h):\n",
    "        return max(0, lista[l])\n",
    "    \n",
    "    m = (l + h)/2\n",
    "    \n",
    "    aux = max (algortimoBentley(lista, l, m),algortimoBentley(lista, m+1, h))\n",
    "      \n",
    "    suma1 = 0\n",
    "    \n",
    "    for i in range(m, l, -1):\n",
    "        suma1 = suma1 + lista[i]\n",
    "        izq = max(izq, suma1)\n",
    "        \n",
    "    suma1 = 0\n",
    "    \n",
    "    for i in range(m+1, h):\n",
    "        suma1 = suma1 + lista[i]\n",
    "        der = max(der, suma1)\n",
    "        \n",
    "    return max(der + izq, aux)"
   ]
  },
  {
   "cell_type": "code",
   "execution_count": 6,
   "metadata": {
    "collapsed": false
   },
   "outputs": [
    {
     "name": "stdout",
     "output_type": "stream",
     "text": [
      "[-2, 11, -4, 13, -5, -2]\n",
      "20\n"
     ]
    }
   ],
   "source": [
    "arreglo = [-2, 11, -4, 13, -5, -2]\n",
    "print (arreglo)\n",
    "final = algortimoBentley(arreglo, 0, len(arreglo)-1)\n",
    "print (final)"
   ]
  },
  {
   "cell_type": "code",
   "execution_count": 7,
   "metadata": {
    "collapsed": true
   },
   "outputs": [],
   "source": [
    "def DivideConquer(array):\n",
    "    sup=0\n",
    "    if len(array)>1:\n",
    "        aux1 = len(array)\n",
    "        aux2 = array[:aux1]\n",
    "        aux3 = array[aux1:]\n",
    "        \n",
    "        if(len(aux2)==1 and len(aux3)==1):\n",
    "            sumar=aux2[0]+aux3[0]\n",
    "            sup=sumar\n",
    "            return sup\n",
    "            \n",
    "        if(len(aux2)==1 and len(aux3)!=1):\n",
    "            sup=DivideConquer(aux3)\n",
    "            sumar=aux2[0]+sup\n",
    "            if(sup>aux2[0] and sup>sumar):\n",
    "                return sup;\n",
    "            else:\n",
    "                if(sumar>aux2[0]):\n",
    "                    return sumar\n",
    "                else:\n",
    "                    return aux2[0]\n",
    "                \n",
    "        sup=DivideConquer(aux2)\n",
    "        if(sup>0):\n",
    "            sup=sup+DivideConquer(aux3)\n",
    "        else:\n",
    "            sup=DivideConquer(aux3)\n",
    "        \n",
    "    if(sup>0):\n",
    "        return sup\n",
    "    else:\n",
    "        return "
   ]
  },
  {
   "cell_type": "code",
   "execution_count": null,
   "metadata": {
    "collapsed": true
   },
   "outputs": [],
   "source": []
  }
 ],
 "metadata": {
  "kernelspec": {
   "display_name": "Python 2",
   "language": "python",
   "name": "python2"
  },
  "language_info": {
   "codemirror_mode": {
    "name": "ipython",
    "version": 2
   },
   "file_extension": ".py",
   "mimetype": "text/x-python",
   "name": "python",
   "nbconvert_exporter": "python",
   "pygments_lexer": "ipython2",
   "version": "2.7.13"
  }
 },
 "nbformat": 4,
 "nbformat_minor": 2
}
