{
 "cells": [
  {
   "cell_type": "markdown",
   "metadata": {},
   "source": [
    "# Parcial 2"
   ]
  },
  {
   "cell_type": "raw",
   "metadata": {},
   "source": [
    "Elaborado por: Laura Camila Rojas Valbuena\n",
    "Profesor: Andrés Jaque"
   ]
  },
  {
   "cell_type": "markdown",
   "metadata": {},
   "source": [
    "<B> 1. Es posible transformar algorithm en analysis sin usar operaciones “izquierda”. Escriba una secuencia de operaciones (de la misma forma que la tabla de ejemplo) que tenga el mismo costo que el mostrado en el ejemplo pero sin usar operaciones “izquierda”.\n",
    "</B> "
   ]
  },
  {
   "cell_type": "markdown",
   "metadata": {},
   "source": [
    "<h3>Primer Punto</h3>\n",
    "    <table>\n",
    "    <tr>\n",
    "     <td><strong>Operación</strong></td>\n",
    "     <td><strong>Z</strong></td>\n",
    "     <td><strong>Costo</strong></td>\n",
    "     <td><strong>Total</strong></td>\n",
    "    </tr>\n",
    "    <tr>\n",
    "     <td>inicializacion</td>\n",
    "     <td>algorithm</td>\n",
    "     <td>0</td>\n",
    "     <td>0</td>\n",
    "    </tr>\n",
    "    <tr>\n",
    "     <td>insertar (x)</td>\n",
    "     <td>anlgorith</td>\n",
    "     <td>3</td>\n",
    "     <td>3</td>\n",
    "    </tr>\n",
    "    <tr>\n",
    "     <td>insertar (y)</td>\n",
    "     <td>analgorith</td>\n",
    "     <td>3</td>\n",
    "     <td>6</td>\n",
    "    </tr>\n",
    "    <tr>\n",
    "     <td>derecha</td>\n",
    "     <td>analgorith</td>\n",
    "     <td>0</td>\n",
    "     <td>6</td>\n",
    "    </tr>\n",
    "    <tr>\n",
    "     <td>reemplazar (por a)</span></td>\n",
    "     <td>analyorith</td>\n",
    "     <td>4</td>\n",
    "     <td>10</td>\n",
    "    </tr>\n",
    "    <tr>\n",
    "     <td>reemplazar (por b)</span></td>\n",
    "     <td>analysrith</td>\n",
    "     <td>4</td>\n",
    "     <td>14</td>\n",
    "    </tr>\n",
    "    <tr>\n",
    "     <td>reemplazar (por c)</td>\n",
    "     <td>analysiith</td>\n",
    "     <td>4</td>\n",
    "     <td>18</td>\n",
    "    </tr>\n",
    "    <tr>\n",
    "     <td>reemplazar (por d)</span></td>\n",
    "     <td>analysisth</td>\n",
    "     <td>4</td>\n",
    "     <td>22</td>\n",
    "    </tr>\n",
    "    <tr>\n",
    "     <td>eliminar (g)</td>\n",
    "     <td>analysish</td>\n",
    "     <td>2</td>\n",
    "     <td>24</td>\n",
    "    </tr>\n",
    "    <tr>\n",
    "     <td>eliminar (f)</td>\n",
    "     <td>analysism</td>\n",
    "     <td>2</td>\n",
    "     <td>26</td>\n",
    "    </tr>\n",
    "    <tr>\n",
    "     <td>eliminar (p)</td>\n",
    "     <td>analysis</td>\n",
    "     <td>2</td>\n",
    "     <td>28</td>\n",
    "    </tr>\n",
    "    </table>"
   ]
  },
  {
   "cell_type": "markdown",
   "metadata": {},
   "source": [
    "<B> 2. Muestre que para dos cadenas x y y con distancia de edición d(x, y), existe una secuencia S de operaciones que transforman x en y con costo d(x, y) donde S no contiene operaciones “izquierda”.\n",
    "</B> "
   ]
  },
  {
   "cell_type": "markdown",
   "metadata": {},
   "source": [
    "Se puede mostrar que para $dist(x,y)$ hay un conjuto de operaciones $S$ la cual no contiene \"izquierda\" cuya suma de costos es igual a $dist(x,y)$ con la operación \"izquierda\". \n",
    "\n",
    "Esto se cumple gracias al hecho de que para una cadena $X$ ser igual a $Y$ tiene que tener el mismo números de reemplazos y de inserciones, el hecho de que el cursor pueda ir de izquierda a derecha no afecta ese hecho. \n",
    "\n",
    "Lo positivo de tener un algoritmo en el cual no hay operación izquierda es que asegura que solo se recorrera la cadena en un setido y nunca se va a devolver lo cual puede hacer el algoritmo mucho mas eficiente. \n",
    "\n",
    "En el primer punto se puede evidenciar que si se puede construir un conjunto S que no tiene la opersación izquierda pero suma el mismo costo.\n",
    "\n",
    "\n",
    "\n",
    "\n",
    "Como se evidencia con el anterior punto, las operaciones no requieren un orden específico para llegar al mismo resultado, y con el mismo costo d(x,y), esto es porque las operaciones que se pueden realizar tienen sus inversas, (insertar-borrar), (derecha izquierda), (sustituir-sustituir).\n",
    "Al realizar la operación izquierda, se busca realizar insertar, borrar o reemplazar. Esto se puede suplir si se realiza la operación cuando el cursor está en la letra de la operación, y no esperar a que el cursor esté más a la derecha y devolverse.\n",
    "En el anterior punto, se llega a la misma solución del enunciado, poniendo al principio las operaciones de insertar, en vez de esperar a que el cursor esté a la derecha y tener que usar la operación de izquierda."
   ]
  },
  {
   "cell_type": "markdown",
   "metadata": {},
   "source": [
    "<B> 3. Muestre que el problema de calcular la distancia de edición d(x, y) presenta una subestructura ´optima. (Considere todos los sufijos de x y y).\n",
    "</B> "
   ]
  },
  {
   "cell_type": "code",
   "execution_count": null,
   "metadata": {
    "collapsed": true
   },
   "outputs": [],
   "source": []
  },
  {
   "cell_type": "markdown",
   "metadata": {},
   "source": [
    "<B> 4. Recursivamente defina el valor de la distancia de edición d(x, y) en terminos de los sufijos de las cadenas x y y. Señale como la distancia de edici´on contiene sobrelapamiento de los subproblemas.\n",
    "</B> "
   ]
  },
  {
   "cell_type": "markdown",
   "metadata": {},
   "source": [
    "\n",
    "El valor (recurrencia) de $d(x,y) = $ para el minimo de\n",
    "\n",
    "$ (eliminar x[1:],y) + 2\n",
    "\n",
    "costo$(insertar y[j]) + c(i, j + 1)$ si $j < |y|$\n",
    "\n",
    "costo$(reemplazar x[i] \\rightarrow y[j]) + c(i + 1, j + 1)$ si $i < |x|$ & $j < |y|$\n",
    "\n",
    "</ul>\n",
    "Caso Base: $c(|x|,|y|) = 0$\n",
    "\n",
    "El tiempo que tarda cada subproblema en ser resuelto es: O(1)\n"
   ]
  },
  {
   "cell_type": "markdown",
   "metadata": {},
   "source": [
    "<B> 5. Describa un algoritmo de programación dinámica que calcule la distancia de edición de x y y. (No use memorización) Analice el tiempo de ejecución y el espacio requeridos por su algoritmo.\n",
    "</B>"
   ]
  },
  {
   "cell_type": "markdown",
   "metadata": {},
   "source": [
    "El algoritmo de programación dinámica que calcula la distancia de edición de x y y, es el algoritmo de Distancia de Levenshtein. Será defindo a continuación:\n",
    "\n",
    "La distancia de Levenshtein, distancia de edición o distancia entre palabras es el número mínimo de operaciones requeridas para transformar una cadena de caracteres en otra. \n",
    "\n",
    "Se entiende por operación la inserción, eliminación o sustitución de un carácter. \n",
    "\n",
    "Esta distancia recibe ese nombre en honor al científico ruso Vladimir Levenshtein, quien la trabajó en 1965. Éste algoritmo es útil en programas que determinan cuán similares son dos cadenas de caracteres, como es el caso de los correctores de ortografía."
   ]
  },
  {
   "cell_type": "raw",
   "metadata": {},
   "source": [
    "A continuación, se encuentra el código del algoritmo de Distancia de Levenshtein:"
   ]
  },
  {
   "cell_type": "raw",
   "metadata": {},
   "source": [
    "def distance(str1, str2):\n",
    "  d=dict()\n",
    "\n",
    "  for i in range(len(str1)+1):\n",
    "     d[i]=dict()\n",
    "     d[i][0]=i\n",
    "        \n",
    "  for i in range(len(str2)+1):\n",
    "     d[0][i] = i\n",
    "        \n",
    "  for i in range(1, len(str1)+1):\n",
    "     for j in range(1, len(str2)+1):\n",
    "            \n",
    "        d[i][j] = min(d[i][j-1]+1, d[i-1][j]+1, d[i-1][j-1]+(not str1[i-1] == str2[j-1]))\n",
    "  \n",
    "  return d[len(str1)][len(str2)]"
   ]
  },
  {
   "cell_type": "markdown",
   "metadata": {},
   "source": [
    "<B> 6. Implemente su algoritmo en Python, y publiquelo en un NoteBook donde lo pruebe para las cadenas: x = software engineering, y = computer science.\n",
    "</B> "
   ]
  },
  {
   "cell_type": "code",
   "execution_count": 15,
   "metadata": {
    "collapsed": false
   },
   "outputs": [
    {
     "name": "stdout",
     "output_type": "stream",
     "text": [
      "'come' y 'mascota' tienen diferencia en: 4\n"
     ]
    }
   ],
   "source": [
    "a = \"mascota\" \n",
    "b = \"come\" \n",
    "aux = 0 \n",
    " \n",
    "if len(a) > len(b): a, b = b, a \n",
    " \n",
    "ref = b \n",
    "for letra in a: \n",
    "    if letra in b: \n",
    "        aux += 1 \n",
    "        b = b.replace(letra, \"\", 1) \n",
    " \n",
    "print \"'%s' y '%s' tienen diferencia en: %i\" %(a, ref, len(ref) - aux) "
   ]
  },
  {
   "cell_type": "markdown",
   "metadata": {},
   "source": [
    "<B> 7. Ejecute su programa para las tres instancias proveidas en 3 archivos de texto plano, donde cada archivo contiene las siguientes cuatro líneas:\n",
    "\n",
    "(a) El número de caracteres m en la cadena x.\n",
    "(b) La cadena x.\n",
    "(c) El número de caracteres n en la cadena y.\n",
    "(d) La cadena y.\n",
    "</B> "
   ]
  },
  {
   "cell_type": "code",
   "execution_count": null,
   "metadata": {
    "collapsed": true
   },
   "outputs": [],
   "source": []
  }
 ],
 "metadata": {
  "kernelspec": {
   "display_name": "Python [default]",
   "language": "python",
   "name": "python2"
  },
  "language_info": {
   "codemirror_mode": {
    "name": "ipython",
    "version": 2
   },
   "file_extension": ".py",
   "mimetype": "text/x-python",
   "name": "python",
   "nbconvert_exporter": "python",
   "pygments_lexer": "ipython2",
   "version": "2.7.12"
  }
 },
 "nbformat": 4,
 "nbformat_minor": 1
}
