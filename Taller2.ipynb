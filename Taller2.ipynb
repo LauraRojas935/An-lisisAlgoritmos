{
 "cells": [
  {
   "cell_type": "markdown",
   "metadata": {},
   "source": [
    "# Taller 2: multiplicación de matrices"
   ]
  },
  {
   "cell_type": "markdown",
   "metadata": {},
   "source": [
    "Cree un notebook de python donde implemente los siguientes algoritmos para el problema de multiplicación de matrices cuadradas de tamaño nxn A*B = C:"
   ]
  },
  {
   "cell_type": "markdown",
   "metadata": {},
   "source": [
    "1.Implemente un algoritmo de multiplicación de matrices en tiempo O(n^3) que calcule cada elemento de la matriz C como \n",
    "c_{ij} = \\sum_{k=1}^n a_{ik}*b_{kj}"
   ]
  },
  {
   "cell_type": "code",
   "execution_count": 5,
   "metadata": {
    "collapsed": true
   },
   "outputs": [],
   "source": [
    "import math\n",
    "import numpy as np\n",
    "import pylab as pl\n",
    "import random as rnd\n",
    "import time\n",
    "%matplotlib inline\n",
    "import matplotlib.pyplot as pl\n",
    "%matplotlib inline"
   ]
  },
  {
   "cell_type": "code",
   "execution_count": 6,
   "metadata": {
    "collapsed": false
   },
   "outputs": [
    {
     "name": "stdout",
     "output_type": "stream",
     "text": [
      "[[ 6 13 12 99 27 94 49  7 80 94]\n",
      " [84 41 37 26 92 74 28 17 20  9]\n",
      " [62 25 77 93 70 55 35 73 91 49]\n",
      " [66 66 25 81 94 74 96 56 77  8]\n",
      " [34 74 19 51 18 83 39 68 16 63]\n",
      " [93 95  5 76 61 32 74 94 18 73]\n",
      " [75 88 16 62 71 95 46 43 98 72]\n",
      " [20 32 97 81 96 63 36 92  4 47]\n",
      " [22 27  2 33 48 83  6 84 65 70]\n",
      " [69 87 91 97 73 72 82 50 67 85]]\n"
     ]
    }
   ],
   "source": [
    "filas=10\n",
    "columnas=10\n",
    "mat = np.random.randint(2,100,(filas,columnas))\n",
    "matriz2 = np.random.randint(2,100,(filas,columnas))\n",
    "print mat"
   ]
  },
  {
   "cell_type": "code",
   "execution_count": 7,
   "metadata": {
    "collapsed": false
   },
   "outputs": [],
   "source": [
    "def multiplicacionMatrices(matriz1,matriz2, tam):\n",
    "    \n",
    "    matriz3 = np.zeros((tam,tam))\n",
    "    \n",
    "    for i in range(tam):\n",
    "        for j in range(tam):\n",
    "            for k in range(tam):\n",
    "                \n",
    "                matriz3[i][j] = matriz3[i][j] + (matriz1[i][k]*matriz2[k][j])\n",
    "    \n",
    "    return matriz3"
   ]
  },
  {
   "cell_type": "code",
   "execution_count": 8,
   "metadata": {
    "collapsed": false
   },
   "outputs": [
    {
     "data": {
      "text/plain": [
       "array([[  948.,   530.,   565.,   762.,   693.],\n",
       "       [ 1383.,   612.,   828.,  1051.,  1110.],\n",
       "       [ 1188.,   612.,   792.,   900.,  1056.],\n",
       "       [ 1870.,  1057.,  1116.,  1212.,  1432.],\n",
       "       [ 1881.,  1118.,  1114.,  1217.,  1398.]])"
      ]
     },
     "execution_count": 8,
     "metadata": {},
     "output_type": "execute_result"
    }
   ],
   "source": [
    "tam = 5\n",
    "matriz1 = np.random.randint(0,25,(tam,tam))\n",
    "matriz2 = np.random.randint(0,25,(tam,tam))\n",
    "multiplicacionMatrices(matriz1,matriz2,tam)"
   ]
  },
  {
   "cell_type": "code",
   "execution_count": 9,
   "metadata": {
    "collapsed": false
   },
   "outputs": [],
   "source": [
    "class Counter:\n",
    "    '''\n",
    "    Class Counter\n",
    "    Implements a step counter, which is used to compute the number of basic operations performed in\n",
    "    a particular call to a function.\n",
    "    '''\n",
    "    def __init__(self):\n",
    "        self.steps = 0\n",
    "\n",
    "    def reset(self):\n",
    "        self.steps = 0\n",
    "\n",
    "    def count(self):\n",
    "        self.steps += 1\n",
    "\n",
    "    def print_steps(self):\n",
    "        print \"Number of steps =\", self.steps\n",
    "        \n",
    "def contador_multiplicacionMatrices(matriz1,matriz2,tam,acct):\n",
    "    \n",
    "    #inicializo la matriz en ceros - vacia\n",
    "    matriz3 = np.zeros((tam,tam))\n",
    "    acct.count()\n",
    "    \n",
    "    for i in range(tam):\n",
    "        acct.count()\n",
    "        for j in range(tam):\n",
    "            acct.count()\n",
    "            for k in range(tam):\n",
    "                acct.count()\n",
    "                matriz3[i][j] = matriz3[i][j] + (matriz1[i][k]*matriz2[k][j]);acct.count()\n",
    "    \n",
    "    return matriz3"
   ]
  },
  {
   "cell_type": "code",
   "execution_count": 14,
   "metadata": {
    "collapsed": false
   },
   "outputs": [
    {
     "name": "stdout",
     "output_type": "stream",
     "text": [
      "Number of steps = 2010101\n"
     ]
    }
   ],
   "source": [
    "tam = 100\n",
    "matriz1 = np.random.randint(0,25,(tam,tam))\n",
    "matriz2 = np.random.randint(0,25,(tam,tam))\n",
    "acct = Counter()\n",
    "contador_multiplicacionMatrices(matriz1,matriz2,tam,acct)\n",
    "acct.print_steps()"
   ]
  },
  {
   "cell_type": "code",
   "execution_count": 15,
   "metadata": {
    "collapsed": true
   },
   "outputs": [],
   "source": [
    "import random as rnd\n",
    "\n",
    "def exper_analysis(n):\n",
    "    \n",
    "    results = []\n",
    "    acct = Counter()\n",
    "    tam=1\n",
    "    \n",
    "    for tam in range(2,n):\n",
    "        \n",
    "        acct.reset()\n",
    "        matriz1=np.random.randint(0, 50, (tam, tam))\n",
    "        matriz2=np.random.randint(0, 50, (tam, tam))\n",
    "        contador_multiplicacionMatrices(matriz1, matriz2,tam,acct)\n",
    "        results.append(acct.steps)\n",
    "        \n",
    "    return results"
   ]
  },
  {
   "cell_type": "code",
   "execution_count": 16,
   "metadata": {
    "collapsed": false
   },
   "outputs": [
    {
     "name": "stdout",
     "output_type": "stream",
     "text": [
      "[23, 67, 149, 281, 475, 743, 1097, 1549, 2111, 2795, 3613, 4577, 5699, 6991, 8465, 10133, 12007, 14099, 16421, 18985, 21803, 24887, 28249, 31901, 35855, 40123, 44717, 49649, 54931, 60575, 66593, 72997, 79799, 87011, 94645, 102713, 111227, 120199, 129641, 139565, 149983, 160907, 172349, 184321, 196835, 209903, 223537, 237749]\n"
     ]
    }
   ],
   "source": [
    "print (exper_analysis(50))"
   ]
  },
  {
   "cell_type": "code",
   "execution_count": 17,
   "metadata": {
    "collapsed": false,
    "scrolled": true
   },
   "outputs": [
    {
     "data": {
      "text/plain": [
       "[<matplotlib.lines.Line2D at 0x79305f8>]"
      ]
     },
     "execution_count": 17,
     "metadata": {},
     "output_type": "execute_result"
    },
    {
     "data": {
      "image/png": "[encoded data removed]",
      "text/plain": [
       "<matplotlib.figure.Figure at 0x452f710>"
      ]
     },
     "metadata": {},
     "output_type": "display_data"
    }
   ],
   "source": [
    "pl.clf()\n",
    "x = np.arange(18)\n",
    "y = np.array(exper_analysis(20))\n",
    "pl.plot(x, y, 'g^')"
   ]
  },
  {
   "cell_type": "markdown",
   "metadata": {},
   "source": [
    "2.Implemente un algoritmo de multiplicación de matrices basado en una estrategía de multiplicación de matrices en tiempo O(n^3) donde cada matriz es dividida en 4 partes iguales."
   ]
  },
  {
   "cell_type": "code",
   "execution_count": 18,
   "metadata": {
    "collapsed": true
   },
   "outputs": [],
   "source": [
    "def sumaMatrices(A, B):\n",
    "    \n",
    "    assert len(A) == len(B)\n",
    "    assert len(A[0]) == len(B[0])\n",
    "    C = np.zeros((len(A), len(A[0])))\n",
    "    \n",
    "    for i in range(len(A)):\n",
    "        for j in range(len(A[0])):\n",
    "            C[i][j] = A[i][j] + B[i][j]\n",
    "            \n",
    "    return C"
   ]
  },
  {
   "cell_type": "code",
   "execution_count": 19,
   "metadata": {
    "collapsed": true
   },
   "outputs": [],
   "source": [
    "def dividirMatriz(A, B):\n",
    "    \n",
    "    assert len(A) == len(A[0])\n",
    "    assert len(B) == len(B[0])\n",
    "    assert len(A) == len(B)\n",
    "    \n",
    "    if len(A) % 2 == 0 and len(A[0]) % 2 == 0 and len(A) > 2:\n",
    "        \n",
    "        #Se definen variables de inicio y final para poder hacer las divisiones \n",
    "        #en A y B indicadas en el grafico del enunciado \n",
    "        inicio = len(A)/2\n",
    "        final = len(A)\n",
    "        \n",
    "        # Se extraen las submatrices para A indicadas en el enunciado:\n",
    "        a = A[0:inicio, 0:inicio]\n",
    "        b = A[0:inicio, inicio:final]\n",
    "        c = A[inicio:final, 0:inicio]\n",
    "        d = A[inicio:final, inicio:final]\n",
    "        \n",
    "        # Se extraen las submatrices para B indicadas en el enunciado:\n",
    "        e = B[0:inicio, 0:inicio]\n",
    "        f = B[0:inicio, mid:final]\n",
    "        g = B[inicio:final, 0:inicio]\n",
    "        h = B[inicio:final, inicio:final]\n",
    "        \n",
    "        # Se multiplican las submatrices obtenidas previamente. \n",
    "        #Este paso es necesario para poder obtener posteriormente la matriz C.\n",
    "        a_x_e = dividirMatriz(a,e)\n",
    "        b_x_g = dividirMatriz(b,g)\n",
    "        a_x_f = dividirMatriz(a,f)\n",
    "        b_x_h = dividirMatriz(b,h)\n",
    "        c_x_e = dividirMatriz(c,e)\n",
    "        d_x_g = dividirMatriz(d,g)\n",
    "        c_x_f = dividirMatriz(c,f)\n",
    "        d_x_h = dividirMatriz(d,h)\n",
    "        \n",
    "        # Se suman las matrices que fueron multiplicadas anteriormente\n",
    "        SuperiorIzq = sumaMatrices(a_x_e,b_x_g)\n",
    "        SuperiorDer = sumaMatrices(a_x_f,b_x_h)\n",
    "        InferiorIzq = sumaMatrices(c_x_e,d_x_g)\n",
    "        InferiorDer = sumaMatrices(c_x_f,d_x_h)\n",
    "        \n",
    "        # Se genera la matríz final\n",
    "        ParteSuperior = np.c_[SuperiorIzq,SuperiorDer]\n",
    "        ParteInferior = np.c_[InferiorIzq,InferiorDer]\n",
    "        Completa = np.r_[ParteSuperior, ParteInferior]\n",
    "        \n",
    "        return Completa\n",
    "    else:\n",
    "        return multiplicacionMatrices(A,B, tam)"
   ]
  },
  {
   "cell_type": "code",
   "execution_count": 20,
   "metadata": {
    "collapsed": false
   },
   "outputs": [
    {
     "name": "stdout",
     "output_type": "stream",
     "text": [
      "[[7 3 7 5 7]\n",
      " [8 0 2 3 8]\n",
      " [1 2 5 6 1]\n",
      " [1 8 7 7 3]\n",
      " [9 6 3 0 7]]\n",
      "\n",
      "[[5 9 3 9 1]\n",
      " [0 4 7 1 7]\n",
      " [2 5 0 6 2]\n",
      " [7 3 1 1 9]\n",
      " [5 4 1 2 5]]\n",
      "\n",
      "[[ 119.  153.   54.  127.  122.]\n",
      " [ 105.  123.   35.  103.   79.]\n",
      " [  62.   64.   24.   49.   84.]\n",
      " [  83.  109.   69.   72.  149.]\n",
      " [  86.  148.   76.  119.   92.]]\n"
     ]
    }
   ],
   "source": [
    "tam=5\n",
    "A = np.random.randint(10, size = (5,5))\n",
    "B = np.random.randint(10, size = (5,5))\n",
    "print A\n",
    "print \"\"\n",
    "print B\n",
    "print \"\"\n",
    "MatFinal = dividirMatriz(A,B)\n",
    "\n",
    "print MatFinal\n"
   ]
  },
  {
   "cell_type": "code",
   "execution_count": 21,
   "metadata": {
    "collapsed": true
   },
   "outputs": [],
   "source": [
    "def count_sumaMatrices(A, B):\n",
    "    \n",
    "    assert len(A) == len(B);acct.count()\n",
    "    assert len(A[0]) == len(B[0]);acct.count()\n",
    "    C = np.zeros((len(A), len(A[0])));acct.count()\n",
    "    \n",
    "    for i in range(len(A)):\n",
    "        acct.count()\n",
    "        for j in range(len(A[0])):\n",
    "            acct.count()\n",
    "            C[i][j] = A[i][j] + B[i][j];acct.count()\n",
    "            \n",
    "    return C"
   ]
  },
  {
   "cell_type": "markdown",
   "metadata": {
    "collapsed": true
   },
   "source": [
    "3.Implemente el algoritmo de strassen"
   ]
  },
  {
   "cell_type": "code",
   "execution_count": 22,
   "metadata": {
    "collapsed": true
   },
   "outputs": [],
   "source": [
    "def restaMatrices(A, B):\n",
    "    \n",
    "    assert len(A) == len(B)\n",
    "    assert len(A[0]) == len(B[0])\n",
    "    C = np.zeros((len(A), len(A[0])))\n",
    "    \n",
    "    for i in range(len(A)):\n",
    "        for j in range(len(A[0])):\n",
    "            C[i][j] = A[i][j] - B[i][j]\n",
    "            \n",
    "    return C"
   ]
  },
  {
   "cell_type": "code",
   "execution_count": 25,
   "metadata": {
    "collapsed": true
   },
   "outputs": [],
   "source": [
    "def algoritmoStrassen(matriz1, matriz2):\n",
    "    \n",
    "    if(len(matriz1)==5):\n",
    "        return multiplicacionMatrices(matriz1, matriz2, 5)\n",
    "    \n",
    "    else:\n",
    "        tam= len(matriz1)\n",
    "        \n",
    "        if(tam%2 != 0):\n",
    "            x = np.zeros((tam,1))\n",
    "            y = np.zeros((1,(tam + 1)))\n",
    "            \n",
    "            matriz3 = np.x_[matriz1,x]\n",
    "            matriz3 = np.y_[matriz3,y]\n",
    "            matriz4 = np.x_[matriz2,x]\n",
    "            matriz4 = np.y_[matriz4,y]\n",
    "            \n",
    "            tam = len(matriz3)\n",
    "            \n",
    "            inicial=1\n",
    "        \n",
    "        else:\n",
    "            tam= len(matriz1)\n",
    "            \n",
    "            matriz3=matriz1\n",
    "            matriz4=matriz2\n",
    "            \n",
    "            inicial=0\n",
    "   \n",
    "        #Se definen variables de inicio y final para poder hacer las divisiones \n",
    "        #en A y B indicadas en el grafico del enunciado \n",
    "        inicio = len(A)/2\n",
    "        final = len(A)\n",
    "        \n",
    "        # Se extraen las submatrices para A indicadas en el enunciado:\n",
    "        a = A[0:inicio, 0:inicio]\n",
    "        b = A[0:inicio, inicio:final]\n",
    "        c = A[inicio:final, 0:inicio]\n",
    "        d = A[inicio:final, inicio:final]\n",
    "        \n",
    "        # Se extraen las submatrices para B indicadas en el enunciado:\n",
    "        e = B[0:inicio, 0:inicio]\n",
    "        f = B[0:inicio, mid:final]\n",
    "        g = B[inicio:final, 0:inicio]\n",
    "        h = B[inicio:final, inicio:final]\n",
    "        \n",
    "        AFinal=np.zeros((inicio,inicio))\n",
    "        BFinal=np.zeros((inicio,inicio))\n",
    "\n",
    "        AFinal=sumaMatrices(a,d)\n",
    "        BFinal=sumaMatrices(e,h)\n",
    "        \n",
    "        mat1=algoritmoStrassen(AFinal,BFinal)\n",
    "    \n",
    "        AFinal = sumaMatrices(c,d)      \n",
    "        mat2 = algoritmoStrassen(AFinal,e)\n",
    "        \n",
    "        BFinal = restaMatrices(f,h) \n",
    "        mat3 = algoritmoStrassen(a,BFinal)  \n",
    "        \n",
    "        BFinal = restaMatrices(g,e)\n",
    "        mat4 =algoritmoalgoritmoStrassen(d,BFinal)   \n",
    "        \n",
    "        AFinal = sumaMatrices(a,b)      \n",
    "        mat5 = algoritmoStrassen(AFinal,h)    \n",
    "\n",
    "        AFinal = restaMatrices(c,a) \n",
    "        BFinal = sumaMatrices(e,f)      \n",
    "        mat6 = algoritmoStrassen(AFinal,BFinal)\n",
    "\n",
    "        AFinal = restaMatrices(b,d) \n",
    "        BFinal = sumaMatrices(g,h)      \n",
    "        mat7 = algoritmoStrassen(AFinal,BFinal) \n",
    "                \n",
    "        l = sumaMatrices(mat3, mat5) \n",
    "        m = sumaMatrices(mat2, mat4)  \n",
    "\n",
    "        AFinal= sumaMatrices(mat1, mat4) \n",
    "        BFinal = sumaMatrices(AFinal, mat7) \n",
    "        k = restaMatrices(BFinal, mat5) \n",
    "\n",
    "        aResult = sumaMatrices(mat1, mat3) \n",
    "        BFinal = sumaMatrices(AFinal, mat6) \n",
    "        n = restaMatrices(BFinal, mat2) \n",
    "        \n",
    "        k=np.c_[k,l]\n",
    "        m=np.c_[m,n]\n",
    "        k=np.r_[k,m]\n",
    "              \n",
    "        if inicial==1:\n",
    "            tm=len(k)\n",
    "            k=k[:tm-1,:tm-1]\n",
    "\n",
    "        return k\n",
    "    "
   ]
  },
  {
   "cell_type": "code",
   "execution_count": 24,
   "metadata": {
    "collapsed": false
   },
   "outputs": [
    {
     "name": "stdout",
     "output_type": "stream",
     "text": [
      "Digite el tamaño de la matriz\n",
      "5\n",
      "Matriz1:  \n",
      "[[98 34 96 52 57]\n",
      " [22 24 51 82 13]\n",
      " [81 25 66 50 45]\n",
      " [35 37 35 83 71]\n",
      " [61 92 71 88 19]]\n",
      "Matriz2:  \n",
      "[[56  1 68 67 85]\n",
      " [73 69 22 84 96]\n",
      " [38 22 16 60 49]\n",
      " [71 84 53 33 93]\n",
      " [84 95 35 29 43]]\n",
      "Matriz final aplicando el algoritmo de Strassen:\n",
      "[[ 20098.  14339.  13699.  18551.  23585.]\n",
      " [ 11836.  10923.   7641.   9633.  14858.]\n",
      " [ 16199.  11733.  11339.  14442.  19104.]\n",
      " [ 17848.  17075.  10638.  12351.  19014.]\n",
      " [ 20674.  17168.  12637.  19530.  26497.]]\n"
     ]
    }
   ],
   "source": [
    "print (\"Digite el tamaño de la matriz\");\n",
    "tam= int(input());\n",
    "\n",
    "matriz1=np.random.randint(0, 100, (tam, tam))\n",
    "matriz2=np.random.randint(0, 100, (tam, tam))\n",
    "\n",
    "print \"Matriz1:  \\n\",matriz1 \n",
    "print \"Matriz2:  \\n\",matriz2\n",
    "\n",
    "print\"Matriz final aplicando el algoritmo de Strassen:\\n\",algoritmoStrassen(matriz1, matriz2)"
   ]
  }
 ],
 "metadata": {
  "anaconda-cloud": {},
  "kernelspec": {
   "display_name": "Python 2",
   "language": "python",
   "name": "python2"
  },
  "language_info": {
   "codemirror_mode": {
    "name": "ipython",
    "version": 2
   },
   "file_extension": ".py",
   "mimetype": "text/x-python",
   "name": "python",
   "nbconvert_exporter": "python",
   "pygments_lexer": "ipython2",
   "version": "2.7.13"
  }
 },
 "nbformat": 4,
 "nbformat_minor": 1
}
