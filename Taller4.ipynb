{
 "cells": [
  {
   "cell_type": "markdown",
   "metadata": {},
   "source": [
    "# Taller 4"
   ]
  },
  {
   "cell_type": "markdown",
   "metadata": {},
   "source": [
    "1.Implemente un método que retorne la subsecuencia común más larga (SCL) apartir de la matriz C construida por el algoritmo de PD que calcula la longitud de la SCL."
   ]
  },
  {
   "cell_type": "code",
   "execution_count": 19,
   "metadata": {
    "collapsed": true
   },
   "outputs": [],
   "source": [
    "import numpy as np\n",
    "import math\n",
    "\n",
    "import pylab as pl\n",
    "%matplotlib inline\n",
    "\n",
    "global var\n",
    "\n",
    "def metodo1_LCS(auxX,auxY):\n",
    "    \n",
    "    global var\n",
    "    \n",
    "    var = np.ones((len(auxX)+1,len(auxY)+1))*-1\n",
    "    lcs3(auxX,auxY,len(auxX),len(auxY))\n",
    "    \n",
    "    return var[len(auxX)-1,len(auxY)-1], var\n",
    "    \n",
    "\n",
    "def metodo2_LCS(x,y,i,j):\n",
    "    \n",
    "    global var\n",
    "    \n",
    "    if var[i,j] == -1:\n",
    "        if i == 0 or j == 0:\n",
    "            var[i,j] = 0\n",
    "            \n",
    "        else:\n",
    "            if x[i-1]==y[j-1]:\n",
    "                var[i,j] = metodo2_LCS(x,y,i-1,j-1)+1\n",
    "                \n",
    "            else:\n",
    "                var[i,j] = max(metodo2_LCS(x,y,i-1,j),metodo2_LCS(x,y,i,j-1))\n",
    "                \n",
    "    return var[i,j]\n",
    "\n",
    "\n",
    "def metodo3_cadenaLCS(auxX,auxY,var):\n",
    "    \n",
    "    j=len(auxY)\n",
    "    i=len(auxX)\n",
    "    ca=''\n",
    "    \n",
    "    while(var[i][j]>0 and i >= 0 and j >=0):\n",
    "        \n",
    "        if(var[i][j-1] == var[i][j]):\n",
    "            j=j-1;\n",
    "            continue;\n",
    "            \n",
    "        if(var[i-1][j] == var[i][j] ):\n",
    "            i=i-1;\n",
    "            continue;\n",
    "            \n",
    "        val = auxY[j-1]\n",
    "        ca+=val;\n",
    "        \n",
    "        i=i-1;\n",
    "        j=j-1;\n",
    "        \n",
    "        cb=ca[::-1]\n",
    "    \n",
    "    print (cb);"
   ]
  },
  {
   "cell_type": "code",
   "execution_count": 20,
   "metadata": {
    "collapsed": false
   },
   "outputs": [
    {
     "name": "stdout",
     "output_type": "stream",
     "text": [
      "La subsecuencia común más larga, es: \n",
      "\n",
      "DDJBK\n",
      "\n",
      "[[ 0. -1.  0.  0.  0.  0.  0.  0.]\n",
      " [-1.  1.  1.  1.  1.  1.  1.  1.]\n",
      " [ 0.  1.  2.  2.  2.  2.  2.  2.]\n",
      " [ 0.  1.  2.  3.  3.  3.  3.  3.]\n",
      " [ 0.  1.  2.  3.  4.  4.  4.  4.]\n",
      " [ 0.  1.  2.  3.  4.  5.  5.  5.]\n",
      " [ 0.  1.  2.  3.  4.  5.  5.  5.]\n",
      " [ 0.  1.  2.  3.  4.  5.  5.  5.]]\n"
     ]
    }
   ],
   "source": [
    "print \"La subsecuencia común más larga, es: \"\n",
    "print\n",
    "metodo3_cadenaLCS('KSDJKBF','DDJBKPL',lcs_mat)\n",
    "print\n",
    "len_lcs, lcs_mat = metodo1_LCS('ABCDEER','ABCDEFG')\n",
    "\n",
    "print (lcs_mat);\n"
   ]
  },
  {
   "cell_type": "markdown",
   "metadata": {},
   "source": [
    "2.Para el problema del corte de la barilla (Notebook):"
   ]
  },
  {
   "cell_type": "markdown",
   "metadata": {},
   "source": [
    "2.1.Implemente un método para determinar los cortes que se deben realizar a partir de la solución de PD que encuentra el valor de la solución óptima.\n"
   ]
  },
  {
   "cell_type": "code",
   "execution_count": 32,
   "metadata": {
    "collapsed": true
   },
   "outputs": [],
   "source": [
    "def cut_rodR(aux1, aux2):\n",
    "    \n",
    "    if aux2==0:\n",
    "        return 0\n",
    "    \n",
    "    aux3 = float('-inf')\n",
    "    \n",
    "    for recorr in range(aux2):\n",
    "        #print recorr\n",
    "        aux3 = max(aux3, aux1[recorr] + cut_rodR(aux1, aux2-1-recorr))\n",
    "        \n",
    "    return aux3"
   ]
  },
  {
   "cell_type": "code",
   "execution_count": 33,
   "metadata": {
    "collapsed": false
   },
   "outputs": [
    {
     "name": "stdout",
     "output_type": "stream",
     "text": [
      "El valor de la solución óptima es: \n",
      "280\n"
     ]
    }
   ],
   "source": [
    "aux1 = [2,56,35,21,45,85,9,65,25,45]\n",
    "rta = cut_rodR(aux1,10)\n",
    "\n",
    "print \"El valor de la solución óptima es: \"\n",
    "print (rta)"
   ]
  },
  {
   "cell_type": "markdown",
   "metadata": {},
   "source": [
    "3.Implemente, describa y analice un algoritmo de PD para calcular la distancia de edición entre dos cadenas. (Cormen, problem 15-5)"
   ]
  },
  {
   "cell_type": "code",
   "execution_count": 27,
   "metadata": {
    "collapsed": true
   },
   "outputs": [],
   "source": [
    "cadena1 = ['a','n','a','l','i','s','i','s']\n",
    "cadena2 = ['a','l','g','o','r','i','t','m','o','s']"
   ]
  },
  {
   "cell_type": "code",
   "execution_count": 28,
   "metadata": {
    "collapsed": true
   },
   "outputs": [],
   "source": [
    "def edicionDistancia(c1,c2):\n",
    "    \n",
    "    \n",
    "    cadena1 =  len(c1)+1\n",
    "    cadena2 =  len(c2)+1\n",
    "    C = np.zeros((cadena1,cadena2))\n",
    "    \n",
    "    for i in range(0,len(c1)+1):\n",
    "        C[i,0] = i        \n",
    "    for j in range(0,len(c2)+1):\n",
    "        C[0,j] = j            \n",
    "    for i in range(1, len(c1)+1):\n",
    "        for j in range(1, len(c2)+1):\n",
    "            \n",
    "            if (c1[i-1] == c2[j-1]):\n",
    "                C[i,j] = C[i-1,j-1]\n",
    "                \n",
    "            else:\n",
    "                C[i,j] = min( C[i-1,j-1] + 1 , C[i-1,j] + 1 , C[i,j-1] + 1 )\n",
    "    \n",
    "    return C[len(c1),len(c2)]"
   ]
  },
  {
   "cell_type": "code",
   "execution_count": 30,
   "metadata": {
    "collapsed": false
   },
   "outputs": [
    {
     "name": "stdout",
     "output_type": "stream",
     "text": [
      "La distancia de edción entre cadena1 y cadena2 es: \n",
      "7.0\n"
     ]
    }
   ],
   "source": [
    "\n",
    "cadenaFinal = edicionDistancia(cadena1,cadena2)\n",
    "\n",
    "print \"La distancia de edción entre cadena1 y cadena2 es: \"\n",
    "print cadenaFinal"
   ]
  },
  {
   "cell_type": "markdown",
   "metadata": {},
   "source": [
    "4.En el rio atrato hay n embarcaderos, en cada uno de ellos se puede alquilar un bote para realizar un viaje rio abajo a otro embarcadero. Existe una tabla de tarifas que indica el costo del viaje del embarcadero i al j, para i, j = 1,2,...,n  (i<j), puede pasar que un viaje de i a j sea más caro que una serie de viajes sucesivos intermedios, no hay un costo asociado a cambiar de bote en algún embarcadero. El problema consiste en diseñar un algoritmo de PD que determine el costo mínimo para cada par de puntos i,j."
   ]
  },
  {
   "cell_type": "code",
   "execution_count": 22,
   "metadata": {
    "collapsed": true
   },
   "outputs": [],
   "source": [
    "def minimo(c,i,j,tarifa,nPuertos):\n",
    "    k=0\n",
    "    aux=j\n",
    "    for k in range(i+1,nPuertos):\n",
    "        #print(\"en aux: \",aux)\n",
    "        #print(tarifa[i,k])\n",
    "        aux=min(aux,tarifa[i,k]+c[k][j])\n",
    "    return aux\n",
    "\n",
    "\n",
    "def costos(nPuertos,tarifa):\n",
    "    c=np.zeros((nPuertos,nPuertos))\n",
    "    diagonal= nPuertos\n",
    "    for diagonal in range (1, nPuertos-1):\n",
    "        for i in range(1,nPuertos-diagonal):\n",
    "            num=int(i+diagonal);\n",
    "            #print (num)\n",
    "            c[i][num]= minimo(c,i,i+diagonal,tarifa,nPuertos)\n",
    "            #print(c[i][num])\n",
    "    return c"
   ]
  },
  {
   "cell_type": "code",
   "execution_count": 23,
   "metadata": {
    "collapsed": false
   },
   "outputs": [
    {
     "name": "stdout",
     "output_type": "stream",
     "text": [
      "[[ 0  5  6  3 15]\n",
      " [ 0  0  5  6  7]\n",
      " [ 0  0  0 10 15]\n",
      " [ 0  0  0  0 12]\n",
      " [ 0  0  0  0  0]]\n",
      "[[ 0.  0.  0.  0.  0.]\n",
      " [ 0.  0.  2.  3.  4.]\n",
      " [ 0.  0.  0.  3.  4.]\n",
      " [ 0.  0.  0.  0.  4.]\n",
      " [ 0.  0.  0.  0.  0.]]\n"
     ]
    }
   ],
   "source": [
    "tarifa= np.matrix('0 5 6 3 15;0 0 5 6 7;0 0 0 10 15;0 0 0 0 12; 0 0 0 0 0 ')\n",
    "print (tarifa)\n",
    "c=costos(5,tarifa)\n",
    "print (c)"
   ]
  },
  {
   "cell_type": "code",
   "execution_count": null,
   "metadata": {
    "collapsed": true
   },
   "outputs": [],
   "source": []
  }
 ],
 "metadata": {
  "kernelspec": {
   "display_name": "Python 2",
   "language": "python",
   "name": "python2"
  },
  "language_info": {
   "codemirror_mode": {
    "name": "ipython",
    "version": 2
   },
   "file_extension": ".py",
   "mimetype": "text/x-python",
   "name": "python",
   "nbconvert_exporter": "python",
   "pygments_lexer": "ipython2",
   "version": "2.7.13"
  }
 },
 "nbformat": 4,
 "nbformat_minor": 2
}
