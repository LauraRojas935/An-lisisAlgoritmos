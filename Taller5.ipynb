{
 "cells": [
  {
   "cell_type": "markdown",
   "metadata": {},
   "source": [
    "# Taller 5: Grafos y algoritmos voraces"
   ]
  },
  {
   "cell_type": "markdown",
   "metadata": {},
   "source": [
    "1.Implemente el algoritmo de búsqueda en profundidad (DFS) y pruebelo para recorrer el grafo del laberinto de pacman."
   ]
  },
  {
   "cell_type": "code",
   "execution_count": 28,
   "metadata": {
    "collapsed": false
   },
   "outputs": [],
   "source": [
    "def busquedaProfundidadDFS(G, begin):\n",
    "    \n",
    "    check, apilr = set(), [begin]\n",
    "    \n",
    "    while apilr:\n",
    "        nodo = apilr.pop()\n",
    "        \n",
    "        if nodo not in check:\n",
    "            \n",
    "            check.add(nodo)\n",
    "            apilr.extend(G[nodo] - check)\n",
    "            \n",
    "    return check\n",
    "\n",
    "G =     {'1': set(['2', '6', '3']),\n",
    "         \n",
    "         '2': set(['4','3', '4','6', '2','1', '4']),\n",
    "         \n",
    "         '3': set(['2']),\n",
    "         \n",
    "         '4': set(['5']),\n",
    "         \n",
    "         '5': set(['2', '6', '3', '4']),\n",
    "         \n",
    "         '6': set(['3', '4'])}\n"
   ]
  },
  {
   "cell_type": "code",
   "execution_count": 29,
   "metadata": {
    "collapsed": false
   },
   "outputs": [
    {
     "name": "stdout",
     "output_type": "stream",
     "text": [
      "El resultado de la búsqueda en profundidad (DFS) es: \n"
     ]
    },
    {
     "data": {
      "text/plain": [
       "{'1', '2', '3', '4', '5', '6'}"
      ]
     },
     "execution_count": 29,
     "metadata": {},
     "output_type": "execute_result"
    }
   ],
   "source": [
    "print \"El resultado de la búsqueda en profundidad (DFS) es: \"\n",
    "busquedaProfundidadDFS(G, '1')"
   ]
  },
  {
   "cell_type": "markdown",
   "metadata": {},
   "source": [
    "2.Realice el análisis del tiempo de ejecución del algoritmo DFS, justifiquelo."
   ]
  },
  {
   "cell_type": "code",
   "execution_count": null,
   "metadata": {
    "collapsed": true
   },
   "outputs": [],
   "source": [
    "import math\n",
    "import numpy as np\n",
    "import pylab as pl\n",
    "import time \n",
    "\n",
    "\n",
    "import random \n",
    "import pylab  \n",
    "import math\n",
    "import numpy as np"
   ]
  },
  {
   "cell_type": "code",
   "execution_count": 34,
   "metadata": {
    "collapsed": false
   },
   "outputs": [
    {
     "data": {
      "image/png": "[encoded data removed]",
      "text/plain": [
       "<matplotlib.figure.Figure at 0x7eb64a8>"
      ]
     },
     "metadata": {},
     "output_type": "display_data"
    }
   ],
   "source": [
    "G2 = {'A': set(['D', 'F']),\n",
    "      \n",
    "         'B': set(['C', 'A', 'F']),\n",
    "      \n",
    "         'C': set(['A', 'F']),\n",
    "      \n",
    "         'D': set(['C']),\n",
    "      \n",
    "         'E': set(['B', 'F']),\n",
    "      \n",
    "         'F': set(['A', 'F'])}\n",
    "\n",
    "\n",
    "def experAnalysis_busquedaProfundidadDFS(n):\n",
    "    final = []\n",
    "    \n",
    "    for i in range(n):\n",
    "        \n",
    "        l = list(range(i))\n",
    "        random.shuffle(l)\n",
    "        tic = time.clock()\n",
    "        dfs(G2, 'A') \n",
    "        \n",
    "        toc = time.clock()\n",
    "        final.append((toc-tic))\n",
    "        \n",
    "    return final\n",
    "\n",
    "pylab.clf()\n",
    "\n",
    "x = np.arange(100)\n",
    "\n",
    "y = np.array(experAnalysis_busquedaProfundidadDFS(100))*1000\n",
    "\n",
    "\n",
    "pylab.plot(x, y, 'g^')\n",
    "pylab.show()"
   ]
  },
  {
   "cell_type": "markdown",
   "metadata": {},
   "source": [
    "3.Diseñe e implemente un algoritmo que identifique ciclos en un grafo."
   ]
  },
  {
   "cell_type": "code",
   "execution_count": 36,
   "metadata": {
    "collapsed": true
   },
   "outputs": [],
   "source": [
    "def verificarCiclos(grafo, inicio):\n",
    "    \n",
    "    check, pil = set(), [inicio]\n",
    "    nodo_2=[]\n",
    "    \n",
    "    #print(pil);\n",
    "    while pil:\n",
    "        nodo = pil.pop()\n",
    "        #print(\"nodo sacado: \", nodo)\n",
    "        if nodo not in check:\n",
    "            nodo_2.append(nodo);\n",
    "            check.add(nodo)\n",
    "            #print(\"Lista: \",check)\n",
    "            pil.extend(grafo[nodo] - check)\n",
    "            #print(\"Adicionando: \",  pil)\n",
    "        else:\n",
    "            print \"La verificación es cierta. Hay ciclos en el grafo.\"\n",
    "            return\n",
    "    return check, nodo_2;"
   ]
  },
  {
   "cell_type": "markdown",
   "metadata": {},
   "source": [
    "4.Diseñe e implemente un algoritmo que verifique si un grafo es bipartito o no."
   ]
  },
  {
   "cell_type": "code",
   "execution_count": null,
   "metadata": {
    "collapsed": false
   },
   "outputs": [],
   "source": [
    "import Queue\n",
    "\n",
    "def verificarBipartito(G):\n",
    "    \n",
    "    cola = Queue.Queue()\n",
    "    cola.put(0)\n",
    "    color = [None]*G.get_num_nodo()\n",
    "    color[0] = 0\n",
    "    verificarBipartito = True\n",
    "    \n",
    "    \n",
    "    while(not cola.empty() and verificarBipartito == True):\n",
    "        u = cola.get()\n",
    "        \n",
    "        for j in G.get_Adj_list()[u]:\n",
    "            \n",
    "            if(color[j] == None):\n",
    "                color[j] = 1 - color[u]\n",
    "                cola.put(j)\n",
    "                \n",
    "            elif (color[j] == color[u]):\n",
    "                verificarBipartito = False\n",
    "                break\n",
    "                \n",
    "    return verificarBipartito\n",
    "\n",
    "print verificarBipartito(G)"
   ]
  },
  {
   "cell_type": "markdown",
   "metadata": {},
   "source": [
    "5.Modifique el algoritmo de dijkstra para solucionar el problema de la ruta más corta en un grafo sin pesos, i.e. partiendo de un nodo inicial encontrar la ruta y su distancia a todos los demás nodos haciendo la menor cantidad de saltos (nodos en la ruta)"
   ]
  },
  {
   "cell_type": "code",
   "execution_count": null,
   "metadata": {
    "collapsed": false
   },
   "outputs": [],
   "source": [
    "from pilaq import pilapush, pilapop\n",
    "\n",
    "def actualizarPila(pila,d,v):\n",
    "    \n",
    "    for i in range(len(pila)):\n",
    "        \n",
    "        if pila[i][1] == v:\n",
    "            \n",
    "            pila[i][0] = d\n",
    "            fix_minpila(pila,i) # pila=pilaify(pila) ineficient      \n",
    "            break    \n",
    "\n",
    "def MinimoPila(pila, i):\n",
    "    \n",
    "    if i == 0: return  \n",
    "    \n",
    "    p = int(i/2) #parent  \n",
    "    \n",
    "    if p >= 0 and pila[p][0] > pila[i][0]:\n",
    "        \n",
    "        pila[i], pila[p] = pila[p], pila[i]\n",
    "        MinimoPila(pila,p)   \n",
    "            \n",
    "def Dijkstra(G,begin):\n",
    "        \n",
    "    D = {} # dictionary of final distances\n",
    "    \n",
    "    for v in G:\n",
    "        D[v] = float('inf')\n",
    "        \n",
    "    D[begin] = 0\n",
    "    \n",
    "    P = {} # dictionary of predecessors\n",
    "    \n",
    "    Q=[] #  priority queue est.dist. of non-final vert.\n",
    "    \n",
    "    for v in G:\n",
    "        \n",
    "        item = []\n",
    "        item.append(D[v])\n",
    "        item.append(v)\n",
    "        pilapush(Q,item)\n",
    "    \n",
    "    \n",
    "    #S = []\n",
    "    while Q:\n",
    "        u = pilapop(Q)[1]\n",
    "        #S.append(u)\n",
    "        \n",
    "        for v in G[u]:\n",
    "            newDuv = D[u] + 1\n",
    "            \n",
    "            if newDuv < D[v]:\n",
    "                \n",
    "                P[v] = u\n",
    "                D[v] = newDuv\n",
    "                actualizarPila(Q,D[v],v)\n",
    "                \n",
    "    return D,P"
   ]
  },
  {
   "cell_type": "code",
   "execution_count": 2,
   "metadata": {
    "collapsed": false
   },
   "outputs": [
    {
     "name": "stdout",
     "output_type": "stream",
     "text": [
      "({'y': 2, 'x': 1, 's': 0, 'u': 1, 'v': 2}, {'y': 'x', 'x': 's', 'u': 's', 'v': 'x'})\n"
     ]
    }
   ],
   "source": [
    "G = {'s': {'u':10, 'x':5},\n",
    "    'u': {'v':1, 'x':2},\n",
    "    'v': {'y':4},\n",
    "    'x':{'u':3,'v':9,'y':2},\n",
    "    'y':{'s':7,'v':6}}\n",
    "\n",
    "print(Dijkstra(G,'s'))"
   ]
  },
  {
   "cell_type": "code",
   "execution_count": null,
   "metadata": {
    "collapsed": true
   },
   "outputs": [],
   "source": []
  }
 ],
 "metadata": {
  "kernelspec": {
   "display_name": "Python 2",
   "language": "python",
   "name": "python2"
  },
  "language_info": {
   "codemirror_mode": {
    "name": "ipython",
    "version": 2
   },
   "file_extension": ".py",
   "mimetype": "text/x-python",
   "name": "python",
   "nbconvert_exporter": "python",
   "pygments_lexer": "ipython2",
   "version": "2.7.13"
  }
 },
 "nbformat": 4,
 "nbformat_minor": 2
}
