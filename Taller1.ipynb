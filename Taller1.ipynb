{
 "cells": [
  {
   "cell_type": "markdown",
   "metadata": {},
   "source": [
    "<h1>Analizando algoritmos de ordenamiento</h1>"
   ]
  },
  {
   "cell_type": "code",
   "execution_count": 189,
   "metadata": {
    "collapsed": true
   },
   "outputs": [],
   "source": [
    "import math\n",
    "import numpy as np\n",
    "import pylab as pl\n",
    "%matplotlib inline"
   ]
  },
  {
   "cell_type": "markdown",
   "metadata": {},
   "source": [
    "<h2>Problema de ordenamiento</h2>\n",
    "\n",
    "Input:  $A[1..n] = <a_1,a_2\\ldots, a_n>$\n",
    "\n",
    "Output: $A'[1..n] = <a'_1,a'_2\\ldots, a'_n> : a'_1\\leq a'_2 \\leq \\ldots \\leq  a'_n$"
   ]
  },
  {
   "cell_type": "markdown",
   "metadata": {},
   "source": [
    "<h3> Ordenamiento por inserción </h3>"
   ]
  },
  {
   "cell_type": "code",
   "execution_count": 190,
   "metadata": {
    "collapsed": true
   },
   "outputs": [],
   "source": [
    "def insertion_sort(A):\n",
    "    j = 1\n",
    "    while j < len(A):\n",
    "        key = A[j]\n",
    "        i = j - 1\n",
    "        while (i >= 0) and (A[i] > key):\n",
    "            A[i + 1] = A[i]\n",
    "            i = i -1\n",
    "        A[i + 1] = key\n",
    "        j = j + 1"
   ]
  },
  {
   "cell_type": "code",
   "execution_count": 191,
   "metadata": {
    "collapsed": false
   },
   "outputs": [
    {
     "name": "stdout",
     "output_type": "stream",
     "text": [
      "[1 3 5 6 7 0 2 4 8 9]\n",
      "[0 1 2 3 4 5 6 7 8 9]\n"
     ]
    }
   ],
   "source": [
    "B = np.random.permutation(range(0,10))\n",
    "print B\n",
    "insertion_sort(B)\n",
    "print B"
   ]
  },
  {
   "cell_type": "markdown",
   "metadata": {},
   "source": [
    "<h4>Correctitud</h4>\n",
    "\n",
    "<b>Invariante:</b> Al comienzo de cada iteración del ciclo externo el subarreglo $A[0..j-1]$ consiste de los elementos originalmente en $A[0..j-1]$ pero ordenados."
   ]
  },
  {
   "cell_type": "code",
   "execution_count": 192,
   "metadata": {
    "collapsed": true
   },
   "outputs": [],
   "source": [
    "def invariant(A, original_A):\n",
    "    l1 = list(A)\n",
    "    l2 = list(original_A)\n",
    "    l2.sort()\n",
    "    return l1 == l2"
   ]
  },
  {
   "cell_type": "code",
   "execution_count": 193,
   "metadata": {
    "collapsed": false
   },
   "outputs": [
    {
     "name": "stdout",
     "output_type": "stream",
     "text": [
      "True\n",
      "False\n"
     ]
    }
   ],
   "source": [
    "print invariant([1, 2, 3, 4], [4, 3, 2, 1])\n",
    "print invariant([1, 2, 3, 4], [5, 3, 2, 1])"
   ]
  },
  {
   "cell_type": "markdown",
   "metadata": {},
   "source": [
    "Algoritmo de ordenamiento por inserción incluyendo evaluación de la invariante (inicialización, mantenimiento, terminación)"
   ]
  },
  {
   "cell_type": "code",
   "execution_count": 194,
   "metadata": {
    "collapsed": true
   },
   "outputs": [],
   "source": [
    "def right_insertion_sort(A):\n",
    "    original_A = list(A)\n",
    "    j = 1\n",
    "    assert invariant(A[0:j], original_A[0:j])\n",
    "    while j < len(A):\n",
    "        assert invariant(A[0:j], original_A[0:j])\n",
    "        key = A[j]\n",
    "        i = j - 1\n",
    "        while (i >= 0) and (A[i] > key):\n",
    "            A[i + 1] = A[i]\n",
    "            i = i -1        \n",
    "        A[i + 1] = key\n",
    "        j = j + 1\n",
    "    assert invariant(A[0:j], original_A[0:j])"
   ]
  },
  {
   "cell_type": "code",
   "execution_count": 195,
   "metadata": {
    "collapsed": false
   },
   "outputs": [
    {
     "name": "stdout",
     "output_type": "stream",
     "text": [
      "[1, 2, 3, 4, 5, 6, 7, 8, 9]\n"
     ]
    }
   ],
   "source": [
    "B = [5, 4, 6, 3, 7, 2, 8, 1, 9]\n",
    "right_insertion_sort(B)\n",
    "print B"
   ]
  },
  {
   "cell_type": "markdown",
   "metadata": {},
   "source": [
    "La siguiente función incluye un error, por lo tanto la aserción para comprobar el invariante de ciclo falla. Esto genera una excepción que es capturada para imprimir un mensaje y el estado de las variables."
   ]
  },
  {
   "cell_type": "code",
   "execution_count": 196,
   "metadata": {
    "collapsed": true
   },
   "outputs": [],
   "source": [
    "def wrong_insertion_sort(A):\n",
    "    original_A = list(A)\n",
    "    j = 1\n",
    "    try:\n",
    "        assert invariant(A[0:j], original_A[0:j])\n",
    "        while j < len(A):\n",
    "            assert invariant(A[0:j], original_A[0:j])\n",
    "            key = A[j]\n",
    "            i = j - 1\n",
    "            while (i >= 0) and (A[i] < key):\n",
    "                A[i + 1] = A[i]\n",
    "                i = i - 1        \n",
    "            A[i + 1] = key\n",
    "            j = j + 1\n",
    "        assert invariant(A[0:j], original_A[0:j])\n",
    "    except  AssertionError:\n",
    "        print \"Error en el invariante de ciclo!\"\n",
    "        print \"j=\", j\n",
    "        print \"i=\", i\n",
    "        print \"A=\", A\n",
    "        print \"Original A=\", original_A"
   ]
  },
  {
   "cell_type": "code",
   "execution_count": 197,
   "metadata": {
    "collapsed": false
   },
   "outputs": [
    {
     "name": "stdout",
     "output_type": "stream",
     "text": [
      "Error en el invariante de ciclo!\n",
      "j= 2\n",
      "i= 0\n",
      "A= [5, 4, 6, 3, 7, 2, 8, 1, 9]\n",
      "Original A= [5, 4, 6, 3, 7, 2, 8, 1, 9]\n"
     ]
    }
   ],
   "source": [
    "B = [5, 4, 6, 3, 7, 2, 8, 1, 9]\n",
    "wrong_insertion_sort(B)"
   ]
  },
  {
   "cell_type": "markdown",
   "metadata": {},
   "source": [
    "<h4> Análisis del tiempo de ejecución</h4>"
   ]
  },
  {
   "cell_type": "code",
   "execution_count": 198,
   "metadata": {
    "collapsed": true
   },
   "outputs": [],
   "source": [
    "class Counter:\n",
    "    '''\n",
    "    Class Counter\n",
    "    Implements a step counter, which is used to compute the number of basic operations performed in\n",
    "    a particular call to a function.\n",
    "    '''\n",
    "    def __init__(self):\n",
    "        self.steps = 0\n",
    "\n",
    "    def reset(self):\n",
    "        self.steps = 0\n",
    "\n",
    "    def count(self):\n",
    "        self.steps += 1\n",
    "\n",
    "    def print_steps(self):\n",
    "        print \"Number of steps =\", self.steps\n",
    "        \n",
    "def acct_insertion_sort(A, acct):\n",
    "    j = 1; acct.count()\n",
    "    acct.count()\n",
    "    while j < len(A):\n",
    "        acct.count()\n",
    "        key = A[j]; acct.count()\n",
    "        i = j - 1; acct.count()\n",
    "        acct.count()\n",
    "        while (i >= 0) and (A[i] > key):\n",
    "            acct.count()\n",
    "            A[i + 1] = A[i]; acct.count()\n",
    "            i = i -1; acct.count()\n",
    "        A[i + 1] = key; acct.count()\n",
    "        j = j + 1; acct.count()"
   ]
  },
  {
   "cell_type": "code",
   "execution_count": 199,
   "metadata": {
    "collapsed": false
   },
   "outputs": [
    {
     "name": "stdout",
     "output_type": "stream",
     "text": [
      "Number of steps = 122\n"
     ]
    }
   ],
   "source": [
    "B = np.random.permutation(range(0,10))\n",
    "acct = Counter()\n",
    "acct_insertion_sort(B, acct)\n",
    "acct.print_steps()"
   ]
  },
  {
   "cell_type": "markdown",
   "metadata": {},
   "source": [
    "<h4>Análisis experimental</h4>\n",
    "Ahora vamos a analizar el comportamiento del algoritmo cuando el tamaño de la entrada varía. La siguiente función genera arreglos al azar de tamaño 1 a n, llama la función acct_insertion_sort(l, acct) y contabiliza el número de pasos."
   ]
  },
  {
   "cell_type": "code",
   "execution_count": 200,
   "metadata": {
    "collapsed": true
   },
   "outputs": [],
   "source": [
    "import random as rnd\n",
    "\n",
    "def exper_analysis(n):\n",
    "    results = []\n",
    "    acct = Counter()\n",
    "    for i in range(n):\n",
    "        l = range(i)\n",
    "        rnd.shuffle(l)\n",
    "        acct.reset()\n",
    "        acct_insertion_sort(l, acct)\n",
    "        results.append(acct.steps)\n",
    "    return results"
   ]
  },
  {
   "cell_type": "code",
   "execution_count": 201,
   "metadata": {
    "collapsed": false
   },
   "outputs": [
    {
     "name": "stdout",
     "output_type": "stream",
     "text": [
      "[2, 2, 8, 17, 26, 32, 68, 65, 98, 128]\n"
     ]
    }
   ],
   "source": [
    "print exper_analysis(10)"
   ]
  },
  {
   "cell_type": "code",
   "execution_count": 202,
   "metadata": {
    "collapsed": false
   },
   "outputs": [
    {
     "data": {
      "text/plain": [
       "[<matplotlib.lines.Line2D at 0x99fa278>]"
      ]
     },
     "execution_count": 202,
     "metadata": {},
     "output_type": "execute_result"
    },
    {
     "data": {
      "image/png": "[encoded data removed]",
      "text/plain": [
       "<matplotlib.figure.Figure at 0x916deb8>"
      ]
     },
     "metadata": {},
     "output_type": "display_data"
    }
   ],
   "source": [
    "pl.clf()\n",
    "x = np.arange(100)\n",
    "y = np.array(exper_analysis(100))\n",
    "pl.plot(x, y, 'k.')"
   ]
  },
  {
   "cell_type": "markdown",
   "metadata": {},
   "source": [
    "#Actividad\n",
    " <ol>\n",
    "  <li>En una sola gráfica represente el número de operaciones, tiempo y T(n) que el algoritmo de ordenamiento por inserción requiere para ordenar arreglos de tamaño n (varie n) en el peor de los casos.</li>\n",
    "  <li>Replique los ejercicios realizados en este taller para el algoritmo de ordenamiento por mezclas (merge sort)</li>\n",
    "  <li>Replique los ejercicios realizados en este taller para el algoritmo de ordenamiento quick-sort</li>\n",
    "</ol> "
   ]
  },
  {
   "cell_type": "markdown",
   "metadata": {
    "collapsed": true
   },
   "source": [
    "# Punto 1: Insertion Sort\n"
   ]
  },
  {
   "cell_type": "markdown",
   "metadata": {},
   "source": [
    "Analisis para el tiempo de ejecucion:"
   ]
  },
  {
   "cell_type": "code",
   "execution_count": 203,
   "metadata": {
    "collapsed": true
   },
   "outputs": [],
   "source": [
    "import time\n",
    "import random as rnd\n",
    "\n",
    "def tiempoEjecucion(n):\n",
    "    results = []\n",
    "    acct = Counter()\n",
    "    for i in range(n):\n",
    "        l = range(i)\n",
    "        rnd.shuffle(l)\n",
    "        tic = time.clock()\n",
    "        right_insertion_sort(l)\n",
    "        toc = time.clock()\n",
    "        results.append((toc-tic)*100000000)\n",
    "    return results"
   ]
  },
  {
   "cell_type": "code",
   "execution_count": 204,
   "metadata": {
    "collapsed": false
   },
   "outputs": [
    {
     "name": "stdout",
     "output_type": "stream",
     "text": [
      "[631.6107828752138, 315.8053004881367, 513.1836587679572, 592.1350748394616, 710.5620170477778, 868.4648491907865, 1026.3673175359145, 1223.745675815735, 1302.6970918872394, 1618.502392375376]\n"
     ]
    }
   ],
   "source": [
    "print tiempoEjecucion(10)"
   ]
  },
  {
   "cell_type": "markdown",
   "metadata": {
    "collapsed": true
   },
   "source": [
    "Analisis para el tiempo teorico:"
   ]
  },
  {
   "cell_type": "code",
   "execution_count": 205,
   "metadata": {
    "collapsed": true
   },
   "outputs": [],
   "source": [
    "import time\n",
    "\n",
    "def tiempoTeorico(n):\n",
    "    results = []\n",
    "    acct = Counter()\n",
    "    for i in range(n):\n",
    "        l = range(i)\n",
    "        rnd.shuffle(l)\n",
    "        #tiempo inicial de ejecucion\n",
    "        tic = time.clock()\n",
    "        #Llamado al algoritmo\n",
    "        right_insertion_sort(l)\n",
    "        #Tiempo final de ejecucion\n",
    "        toc = time.clock()\n",
    "        results.append((toc-tic)*100000000)\n",
    "        \n",
    "    return results"
   ]
  },
  {
   "cell_type": "code",
   "execution_count": 206,
   "metadata": {
    "collapsed": false
   },
   "outputs": [
    {
     "name": "stdout",
     "output_type": "stream",
     "text": [
      "[710.5620170477778, 355.2810085238889, 552.6593668037094, 631.6107828752138, 710.5620170477778, 868.4646672918461, 1026.3673175359145, 1263.2213838514872, 1342.1727999229915, 1618.502392375376]\n"
     ]
    }
   ],
   "source": [
    "print tiempoTeorico(10)"
   ]
  },
  {
   "cell_type": "markdown",
   "metadata": {},
   "source": [
    "# Grafica: Numero de operaciones, tiempo de ejecucion y tiempo teorico"
   ]
  },
  {
   "cell_type": "code",
   "execution_count": 207,
   "metadata": {
    "collapsed": false
   },
   "outputs": [
    {
     "data": {
      "text/plain": [
       "[<matplotlib.lines.Line2D at 0x9c1eb38>]"
      ]
     },
     "execution_count": 207,
     "metadata": {},
     "output_type": "execute_result"
    },
    {
     "data": {
      "image/png": "[encoded data removed]",
      "text/plain": [
       "<matplotlib.figure.Figure at 0x97145f8>"
      ]
     },
     "metadata": {},
     "output_type": "display_data"
    }
   ],
   "source": [
    "pl.clf()\n",
    "xname = pl.xlabel('tamano')\n",
    "yname = pl.ylabel('pasos')\n",
    "x = np.arange(100)\n",
    "#Numero de operaciones \n",
    "y = np.array(exper_analysis(100)) \n",
    "pl.plot(x, y, 'k.', color ='y')\n",
    "#Tiempo de ejecucion \n",
    "z = np.array(tiempoEjecucion(100))\n",
    "pl.plot(x, z, 'k.', color='b')\n",
    "#Tiempo teorico\n",
    "w = np.array(tiempoTeorico(100))\n",
    "pl.plot(x, w, 'k.', color='r')"
   ]
  },
  {
   "cell_type": "markdown",
   "metadata": {},
   "source": [
    "# Punto 2: Merge Sort"
   ]
  },
  {
   "cell_type": "markdown",
   "metadata": {},
   "source": [
    "Algoritmo Merge Sort:"
   ]
  },
  {
   "cell_type": "code",
   "execution_count": 208,
   "metadata": {
    "collapsed": false
   },
   "outputs": [],
   "source": [
    "#Tomado de http://interactivepython.org/courselib/static/pythonds/SortSearch/TheMergeSort.html\n",
    "def mergeSort(alist):\n",
    "    \n",
    "      if len(alist)>1:\n",
    "            \n",
    "        mid = len(alist)//2\n",
    "        lefthalf = alist[:mid]\n",
    "        righthalf = alist[mid:]\n",
    "\n",
    "        mergeSort(lefthalf)\n",
    "        mergeSort(righthalf)\n",
    "\n",
    "        i=0\n",
    "        j=0\n",
    "        k=0\n",
    "        \n",
    "        while i < len(lefthalf) and j < len(righthalf):\n",
    "           \n",
    "            if lefthalf[i] < righthalf[j]:\n",
    "                \n",
    "                alist[k]=lefthalf[i]\n",
    "                i=i+1\n",
    "                \n",
    "            else:\n",
    "                alist[k]=righthalf[j]\n",
    "                j+=1\n",
    "            k=k+1\n",
    "\n",
    "        while i < len(lefthalf):\n",
    "            \n",
    "            alist[k]=lefthalf[i]\n",
    "            i+=1\n",
    "            k+=1\n",
    "\n",
    "        while j < len(righthalf):\n",
    "            \n",
    "            alist[k]=righthalf[j]\n",
    "            j+=1\n",
    "            k+=1\n",
    "    \n"
   ]
  },
  {
   "cell_type": "code",
   "execution_count": 209,
   "metadata": {
    "collapsed": false
   },
   "outputs": [
    {
     "name": "stdout",
     "output_type": "stream",
     "text": [
      "[9 7 6 4 2 0 5 8 1 3]\n",
      "[0 1 2 3 4 5 6 7 8 9]\n"
     ]
    }
   ],
   "source": [
    "B = np.random.permutation(range(0,10))\n",
    "print B\n",
    "insertion_sort(B)\n",
    "print B"
   ]
  },
  {
   "cell_type": "markdown",
   "metadata": {},
   "source": [
    "# Correctitud"
   ]
  },
  {
   "cell_type": "markdown",
   "metadata": {},
   "source": [
    "Invariante: Al final de cada llamado a la función, el subarreglo se compone de los elementos originales pero ordenados."
   ]
  },
  {
   "cell_type": "code",
   "execution_count": 210,
   "metadata": {
    "collapsed": false
   },
   "outputs": [],
   "source": [
    "def invariante(A, inicial_A):\n",
    "       \n",
    "    inicial_A.sort()\n",
    "    \n",
    "    print A == inicial_A\n",
    "    return A == inicial_A\n",
    "\n"
   ]
  },
  {
   "cell_type": "code",
   "execution_count": 211,
   "metadata": {
    "collapsed": false
   },
   "outputs": [
    {
     "name": "stdout",
     "output_type": "stream",
     "text": [
      "True\n",
      "True\n",
      "False\n",
      "False\n"
     ]
    }
   ],
   "source": [
    "print invariante([1, 2, 3, 4], [4, 3, 2, 1])\n",
    "print invariante([1, 2, 3, 4], [6, 7, 8, 9])"
   ]
  },
  {
   "cell_type": "markdown",
   "metadata": {},
   "source": [
    "# Evaluación de la invariante"
   ]
  },
  {
   "cell_type": "markdown",
   "metadata": {},
   "source": [
    "Merge Sort evaluando la invariante en fase de inicialización, mantenimiento y terminación."
   ]
  },
  {
   "cell_type": "code",
   "execution_count": 212,
   "metadata": {
    "collapsed": true
   },
   "outputs": [],
   "source": [
    "def right_mergeSort(alist):\n",
    "    inicial_A = list(alist)\n",
    "    try:\n",
    "        if len(alist)>1:\n",
    "            mid = len(alist)//2\n",
    "            mitadIzquierda = alist[:mid]\n",
    "            mitadDerecha = alist[mid:]\n",
    "            \n",
    "            right_mergeSort(mitadIzquierda)\n",
    "            right_mergeSort(mitadDerecha)\n",
    "            \n",
    "            i=0\n",
    "            j=0\n",
    "            k=0\n",
    "            \n",
    "            while i < len(mitadIzquierda) and j < len(mitadDerecha):\n",
    "                \n",
    "                if mitadIzquierda[i] <= mitadDerecha[j]:\n",
    "                    alist[k]=mitadIzquierda[i]\n",
    "                    i+=1\n",
    "                else:\n",
    "                    alist[k]=mitadDerecha[j]\n",
    "                    j+=1\n",
    "                k=k+1\n",
    "\n",
    "            while i < len(mitadIzquierda):\n",
    "                alist[k]=mitadIzquierda[i]\n",
    "                i+=1\n",
    "                k+=1\n",
    "\n",
    "            while j < len(mitadDerecha):\n",
    "                alist[k]=mitadDerecha[j]\n",
    "                j+=1\n",
    "                k+=1\n",
    "                \n",
    "            assert invariante(alist,inicial_A)\n",
    "            \n",
    "    except  AssertionError:\n",
    "        \n",
    "        print \"Error en el invariante de ciclo!\"\n",
    "        print \"Original A=\", inicial_A\n",
    "        print \"otro\", mitadIzquierda+mitadDerecha"
   ]
  },
  {
   "cell_type": "code",
   "execution_count": 213,
   "metadata": {
    "collapsed": false
   },
   "outputs": [
    {
     "name": "stdout",
     "output_type": "stream",
     "text": [
      "[6, 2, 3, 1, 8, 4, 5, 7, 9]\n",
      "True\n",
      "True\n",
      "True\n",
      "True\n",
      "True\n",
      "True\n",
      "True\n",
      "True\n",
      "[1, 2, 3, 4, 5, 6, 7, 8, 9]\n"
     ]
    }
   ],
   "source": [
    "B = [6, 2, 3, 1, 8, 4, 5, 7, 9]\n",
    "C = list(B)\n",
    "\n",
    "print C\n",
    "right_mergeSort(C)\n",
    "\n",
    "print C"
   ]
  },
  {
   "cell_type": "markdown",
   "metadata": {
    "collapsed": true
   },
   "source": [
    "# Análisis: tiempo de ejecución"
   ]
  },
  {
   "cell_type": "code",
   "execution_count": 214,
   "metadata": {
    "collapsed": false
   },
   "outputs": [],
   "source": [
    "class Counter:\n",
    "    '''\n",
    "    Class Counter\n",
    "    Implements a step counter, which is used to compute the number of basic operations performed in\n",
    "    a particular call to a function.\n",
    "    '''\n",
    "    def __init__(self):\n",
    "        self.steps = 0\n",
    "\n",
    "    def reset(self):\n",
    "        self.steps = 0\n",
    "\n",
    "    def count(self):\n",
    "        self.steps += 1\n",
    "\n",
    "    def print_steps(self):\n",
    "        print \"Number of steps =\", self.steps\n",
    "        \n",
    "def merge_Sort(alist, acct):\n",
    "    \n",
    "    if len(alist)>1:\n",
    "        \n",
    "        acct.count()\n",
    "        mid = len(alist)//2;acct.count()\n",
    "        \n",
    "        mitadIzquierda = alist[:mid];acct.count()\n",
    "        mitadDerecha = alist[mid:];acct.count()\n",
    "\n",
    "        merge_Sort(mitadIzquierda,acct);acct.count()\n",
    "        merge_Sort(mitadDerecha,acct);acct.count()\n",
    "\n",
    "        i=0;acct.count()\n",
    "        j=0;acct.count()\n",
    "        k=0;acct.count()\n",
    "        \n",
    "        while i < len(mitadIzquierda) and j < len(mitadDerecha):\n",
    "            acct.count()\n",
    "            \n",
    "            if mitadIzquierda[i] <= mitadDerecha[j]:\n",
    "                \n",
    "                acct.count()\n",
    "                alist[k]=mitadIzquierda[i];acct.count()\n",
    "                i+=1;acct.count()\n",
    "                \n",
    "            else:\n",
    "                acct.count()\n",
    "                alist[k]=mitadDerecha[j];acct.count()\n",
    "                j+=1;acct.count()\n",
    "            k+=1;acct.count()\n",
    "        acct.count()\n",
    "        \n",
    "        while i < len(mitadIzquierda):\n",
    "            \n",
    "            acct.count()\n",
    "            alist[k]=mitadIzquierda[i];acct.count()\n",
    "            i+=1;acct.count()\n",
    "            k+=1;acct.count()\n",
    "        acct.count()\n",
    "        \n",
    "        while j < len(mitadDerecha):\n",
    "            \n",
    "            acct.count()\n",
    "            alist[k]=mitadDerecha[j];acct.count()\n",
    "            \n",
    "            j+=1;acct.count()\n",
    "            k+=1;acct.count()\n",
    "            \n",
    "        acct.count()\n",
    "        \n",
    "    acct.count()"
   ]
  },
  {
   "cell_type": "code",
   "execution_count": 215,
   "metadata": {
    "collapsed": false
   },
   "outputs": [
    {
     "name": "stdout",
     "output_type": "stream",
     "text": [
      "[8, 15, 9, 6, 4, 7, 8, 2, 3, 23]\n",
      "Number of steps = 287\n"
     ]
    }
   ],
   "source": [
    "B = [8,15,9,6,4,7,8,2,3,23]\n",
    "C = list(B)\n",
    "\n",
    "print C\n",
    "\n",
    "acct = Counter()\n",
    "merge_Sort(C, acct)\n",
    "acct.print_steps()"
   ]
  },
  {
   "cell_type": "markdown",
   "metadata": {},
   "source": [
    "# Análisis experimental"
   ]
  },
  {
   "cell_type": "code",
   "execution_count": 216,
   "metadata": {
    "collapsed": true
   },
   "outputs": [],
   "source": [
    "import random as rnd\n",
    "\n",
    "def exper_analysis(n):\n",
    "    \n",
    "    results = []\n",
    "    acct = Counter()\n",
    "    \n",
    "    for j in range(n):\n",
    "        \n",
    "        l = range(j)\n",
    "        rnd.shuffle(l)\n",
    "        C =list(l)\n",
    "        acct.reset()\n",
    "        merge_Sort(l, acct)\n",
    "        results.append(acct.steps)\n",
    "        \n",
    "    return results"
   ]
  },
  {
   "cell_type": "code",
   "execution_count": 217,
   "metadata": {
    "collapsed": false
   },
   "outputs": [
    {
     "name": "stdout",
     "output_type": "stream",
     "text": [
      "[1, 1, 24, 52, 80, 112, 143, 179, 211, 249]\n"
     ]
    }
   ],
   "source": [
    "print exper_analysis(10)"
   ]
  },
  {
   "cell_type": "markdown",
   "metadata": {},
   "source": [
    "# Análisis Teórico"
   ]
  },
  {
   "cell_type": "code",
   "execution_count": 218,
   "metadata": {
    "collapsed": true
   },
   "outputs": [],
   "source": [
    "import math\n",
    "import random as rnd\n",
    "\n",
    "def analisisTeorico(n):\n",
    "    \n",
    "    results = []\n",
    "    for i in range(n):\n",
    "        \n",
    "        if(i == 0):\n",
    "            l = 0\n",
    "        else:\n",
    "            l = i*np.log2(i)\n",
    "        results.append(l)\n",
    "        \n",
    "    return results"
   ]
  },
  {
   "cell_type": "code",
   "execution_count": 219,
   "metadata": {
    "collapsed": false
   },
   "outputs": [
    {
     "name": "stdout",
     "output_type": "stream",
     "text": [
      "[0, 0.0, 2.0, 4.7548875021634682, 8.0, 11.60964047443681, 15.509775004326936, 19.651484454403228, 24.0, 28.529325012980809]\n"
     ]
    }
   ],
   "source": [
    "\n",
    "print analisisTeorico(10)"
   ]
  },
  {
   "cell_type": "markdown",
   "metadata": {},
   "source": [
    "# Análisis tiempo de ejecución"
   ]
  },
  {
   "cell_type": "code",
   "execution_count": 220,
   "metadata": {
    "collapsed": true
   },
   "outputs": [],
   "source": [
    "import time\n",
    "import random\n",
    "\n",
    "tic = time.clock()\n",
    "toc = time.clock()\n",
    "\n",
    "def tiempoEjecucion(n):\n",
    "    \n",
    "    results = []\n",
    "    acct = Counter()\n",
    "    \n",
    "    for i in range(n):\n",
    "        \n",
    "        l = list(range(i))\n",
    "        random.shuffle(l)\n",
    "        acct.reset()\n",
    "        tic = time.clock()\n",
    "        merge_Sort(l,acct)\n",
    "        toc = time.clock()\n",
    "        results.append((toc-tic))\n",
    "        \n",
    "    return results"
   ]
  },
  {
   "cell_type": "code",
   "execution_count": 221,
   "metadata": {
    "collapsed": false
   },
   "outputs": [
    {
     "name": "stdout",
     "output_type": "stream",
     "text": [
      "[3.947567165596411e-06, 3.9475708035752177e-07, 7.895134331192821e-06, 1.4211240340955555e-05, 2.1316860511433333e-05, 3.0001509003341198e-05, 3.7501884435187094e-05, 4.5397018766379915e-05, 6.829290578025393e-05, 6.39505815343e-05]\n"
     ]
    }
   ],
   "source": [
    "print tiempoEjecucion(10)"
   ]
  },
  {
   "cell_type": "markdown",
   "metadata": {},
   "source": [
    "# Grafica: Numero de operaciones, tiempo de ejecucion y tiempo teorico"
   ]
  },
  {
   "cell_type": "code",
   "execution_count": 222,
   "metadata": {
    "collapsed": false
   },
   "outputs": [
    {
     "data": {
      "text/plain": [
       "[<matplotlib.lines.Line2D at 0x9e49e10>]"
      ]
     },
     "execution_count": 222,
     "metadata": {},
     "output_type": "execute_result"
    },
    {
     "data": {
      "image/png": "[encoded data removed]",
      "text/plain": [
       "<matplotlib.figure.Figure at 0x9cd9390>"
      ]
     },
     "metadata": {},
     "output_type": "display_data"
    }
   ],
   "source": [
    "pl.clf()\n",
    "xname = pl.xlabel('tamano')\n",
    "yname = pl.ylabel('pasos')\n",
    "x = np.arange(100)\n",
    "#Numero de operaciones \n",
    "y = np.array(exper_analysis(100)) \n",
    "pl.plot(x, y, 'g^', color ='g')\n",
    "#Tiempo de ejecucion \n",
    "z = np.array(tiempoEjecucion(100))\n",
    "pl.plot(x, z, 'g^', color='b')\n",
    "#Tiempo teorico\n",
    "w = np.array(analisisTeorico(100))\n",
    "pl.plot(x, w, 'g^', color='y')"
   ]
  },
  {
   "cell_type": "markdown",
   "metadata": {},
   "source": [
    "# Punto 3: Algoritmo Quick Sort"
   ]
  },
  {
   "cell_type": "markdown",
   "metadata": {
    "collapsed": true
   },
   "source": [
    "Algoritmo Quick Sort"
   ]
  },
  {
   "cell_type": "code",
   "execution_count": 223,
   "metadata": {
    "collapsed": false
   },
   "outputs": [],
   "source": [
    "#Algoritmo tomado de https://www.genbetadev.com/algoritmos/implementando-el-algoritmo-quicksort\n",
    "\n",
    "def quicksort(L, first, last):\n",
    "    # definimos los índices y calculamos el pivote\n",
    "    i = first\n",
    "    j = last    \n",
    "    pivote = (L[i] + L[j]) / 2\n",
    "\n",
    "    # iteramos hasta que i no sea menor que j\n",
    "    while i < j:\n",
    "        # iteramos mientras que el valor de L[i] sea menor que pivote\n",
    "        while L[i] < pivote:\n",
    "            # Incrementamos el índice\n",
    "            i+=1\n",
    "        # iteramos mientras que el valor de L[j] sea mayor que pivote\n",
    "        while L[j] > pivote:\n",
    "            # decrementamos el índice\n",
    "            j-=1\n",
    "        # si i es menor o igual que j significa que los índices se han cruzado\n",
    "        if i <= j:\n",
    "            # creamos una variable temporal para guardar el valor de L[j]\n",
    "            x = L[j]\n",
    "            # intercambiamos los valores de L[j] y L[i]\n",
    "            L[j] = L[i]\n",
    "            L[i] = x\n",
    "            # incrementamos y decrementamos i y j respectivamente\n",
    "            i+=1\n",
    "            j-=1\n",
    "            \n",
    "    # si first es menor que j mantenemos la recursividad\n",
    "    if first < j:\n",
    "        L = quicksort(L, first, j)\n",
    "    # si last es mayor que i mantenemos la recursividad\n",
    "    if last > i:\n",
    "        L = quicksort(L, i, last)\n",
    "\n",
    "    # devolvemos la lista ordenada\n",
    "    return L\n"
   ]
  },
  {
   "cell_type": "code",
   "execution_count": 224,
   "metadata": {
    "collapsed": false
   },
   "outputs": [
    {
     "name": "stdout",
     "output_type": "stream",
     "text": [
      "[1, 3, 4, 2, 9, 5, 6, 8, 10]\n",
      "[1, 2, 3, 4, 5, 6, 8, 9, 10]\n"
     ]
    }
   ],
   "source": [
    "B = [1,3,4,2,9,5,6,8,10]\n",
    "C = list(B)\n",
    "\n",
    "print C\n",
    "quicksort(C,1,8)\n",
    "\n",
    "print C"
   ]
  },
  {
   "cell_type": "markdown",
   "metadata": {},
   "source": [
    "# Correctitud"
   ]
  },
  {
   "cell_type": "markdown",
   "metadata": {
    "collapsed": true
   },
   "source": [
    "\n",
    "Invariante: a partir de un pivote p en el arreglo, se deben cumplir 2 condiciones:\n",
    "* Los números que estén a la izquierda del pivote deben ser menores que este. \n",
    "* Los números que estén a la derecha pivote deben ser mayores que este."
   ]
  },
  {
   "cell_type": "code",
   "execution_count": 225,
   "metadata": {
    "collapsed": true
   },
   "outputs": [],
   "source": [
    "def invarianteQS(A, pivote):\n",
    "    i=0\n",
    "    j=pivote+1\n",
    "    if j < len(A):\n",
    "        while j < len(A):\n",
    "            if A[pivote] < A[j]:\n",
    "                j = j + 1\n",
    "            else:\n",
    "                return False;\n",
    "    else:\n",
    "        if pivote != 0:\n",
    "            while i>0:\n",
    "                if A[pivote] > A[i]:\n",
    "                    i = i - 1\n",
    "                else:\n",
    "                    return False\n",
    "    return True"
   ]
  },
  {
   "cell_type": "code",
   "execution_count": 226,
   "metadata": {
    "collapsed": false
   },
   "outputs": [
    {
     "name": "stdout",
     "output_type": "stream",
     "text": [
      "True\n",
      "True\n",
      "False\n"
     ]
    }
   ],
   "source": [
    "print (invarianteQS([3,4,5,6,7],3))\n",
    "print (invarianteQS([3,9,11,23,36],3))\n",
    "\n",
    "print (invarianteQS([23,65,98,56,69],2))\n"
   ]
  },
  {
   "cell_type": "markdown",
   "metadata": {},
   "source": [
    "# Evaluación de la invariante"
   ]
  },
  {
   "cell_type": "markdown",
   "metadata": {},
   "source": [
    "\n",
    "Quick Sort y la evaluación de su invariante (inicialización, mantenimiento, terminación)"
   ]
  },
  {
   "cell_type": "code",
   "execution_count": 227,
   "metadata": {
    "collapsed": false
   },
   "outputs": [],
   "source": [
    "def right_quicksort (P,primero,ultimo):\n",
    "    \n",
    "    try:\n",
    "        \n",
    "        i = primero\n",
    "        j = ultimo    \n",
    "        pivote = int((P[i] + P[j]) / 2)\n",
    "\n",
    "        while i < j:\n",
    "            \n",
    "            while P[i] < pivote:\n",
    "                i+=1\n",
    "                \n",
    "            while P[j] > pivote:\n",
    "                j-=1\n",
    "                \n",
    "            if i <= j:\n",
    "                x = P[j]\n",
    "                P[j] = P[i]\n",
    "                P[i] = x\n",
    "                i+=1\n",
    "                j-=1\n",
    "                \n",
    "        assert invarianteQS(P,pivote)\n",
    "            \n",
    "        if primero < j:\n",
    "            right_quicksort(P, primero, j)\n",
    "\n",
    "        if ultimo > i:\n",
    "             right_quicksort(P, i, ultimo)\n",
    "                \n",
    "        assert invarianteQS(P,pivote)\n",
    "        \n",
    "    except  AssertionError:\n",
    "        \n",
    "        print (\"Ordenado\")"
   ]
  },
  {
   "cell_type": "code",
   "execution_count": 228,
   "metadata": {
    "collapsed": false
   },
   "outputs": [
    {
     "name": "stdout",
     "output_type": "stream",
     "text": [
      "Ordenado\n",
      "[1, 5, 6, 9, 22, 23, 89]\n"
     ]
    }
   ],
   "source": [
    "P = [9,5,6,89,23,1,22]\n",
    "x = len(P)-1\n",
    "right_quicksort(P,0,x)\n",
    "print (P)"
   ]
  },
  {
   "cell_type": "markdown",
   "metadata": {},
   "source": [
    "# Análisis: tiempo de ejecución"
   ]
  },
  {
   "cell_type": "code",
   "execution_count": 229,
   "metadata": {
    "collapsed": true
   },
   "outputs": [],
   "source": [
    "class Counter:\n",
    "    '''\n",
    "    Class Counter\n",
    "    Implements a step counter, which is used to compute the number of basic operations performed in\n",
    "    a particular call to a function.\n",
    "    '''\n",
    "    def __init__(self):\n",
    "        self.steps = 0\n",
    "\n",
    "    def reset(self):\n",
    "        self.steps = 0\n",
    "\n",
    "    def count(self):\n",
    "        self.steps += 1\n",
    "\n",
    "    def print_steps(self):\n",
    "        print \"Number of steps =\", self.steps\n",
    "\n",
    "        \n",
    "def acct_quicksort(L, first, last, acct):\n",
    "    # definimos los índices y calculamos el pivote\n",
    "    i = first;acct.count()\n",
    "    j = last;acct.count()     \n",
    "    pivote = (L[i] + L[j]) / 2;acct.count()\n",
    "\n",
    "    # iteramos hasta que i no sea menor que j\n",
    "    while i < j:\n",
    "        acct.count()\n",
    "        # iteramos mientras que el valor de L[i] sea menor que pivote\n",
    "        while L[i] < pivote:\n",
    "            acct.count()\n",
    "            # Incrementamos el índice\n",
    "            i+=1;acct.count()\n",
    "        # iteramos mientras que el valor de L[j] sea mayor que pivote\n",
    "        while L[j] > pivote:\n",
    "            # decrementamos el índice\n",
    "            acct.count()\n",
    "            j-=1;acct.count()\n",
    "        if i <= j:\n",
    "            acct.count()\n",
    "            x = L[j];acct.count()\n",
    "            L[j] = L[i];acct.count()\n",
    "            L[i] = x;acct.count()\n",
    "            i+=1;acct.count()\n",
    "            j-=1;acct.count()\n",
    "    # si first es menor que j mantenemos la recursividad \n",
    "    if first < j:    \n",
    "        acct.count()\n",
    "        L = acct_quicksort(L, first, j,acct);acct.count()\n",
    "    # si last es mayor que i mantenemos la recursividad\n",
    "    if last > i:\n",
    "        acct.count()\n",
    "        L = acct_quicksort(L, i, last,acct);acct.count()\n",
    "    # lista ordenada\n",
    "    return L"
   ]
  },
  {
   "cell_type": "code",
   "execution_count": 230,
   "metadata": {
    "collapsed": false
   },
   "outputs": [
    {
     "name": "stdout",
     "output_type": "stream",
     "text": [
      "[2, 8, 3, 9, 4, 6, 1, 7, 0, 5]\n",
      "Number of steps = 142\n"
     ]
    }
   ],
   "source": [
    "B = np.random.permutation(range(0,10))\n",
    "C = list(B)\n",
    "print C\n",
    "acct = Counter()\n",
    "x=len(C)-1\n",
    "acct_quicksort(C,0,x, acct)\n",
    "acct.print_steps()\n"
   ]
  },
  {
   "cell_type": "markdown",
   "metadata": {},
   "source": [
    "# Análisis experimental"
   ]
  },
  {
   "cell_type": "markdown",
   "metadata": {},
   "source": [
    "Ahora vamos a analizar el comportamiento del algoritmo cuando el tamaño de la entrada varía. La siguiente función genera arreglos al azar de tamaño 1 a n, llama la función acct_quicksort(L, first, last, acct) y contabiliza el número de pasos."
   ]
  },
  {
   "cell_type": "code",
   "execution_count": 231,
   "metadata": {
    "collapsed": true
   },
   "outputs": [],
   "source": [
    "import random as rnd\n",
    "\n",
    "def exper_analysis(n):\n",
    "    results = []\n",
    "    acct = Counter()\n",
    "    \n",
    "    for i in range(n):\n",
    "        l=0\n",
    "        \n",
    "        if i>0 :\n",
    "            l = range(i)\n",
    "            rnd.shuffle(l)\n",
    "            C =list(l)\n",
    "            acct.reset()\n",
    "            \n",
    "            x=len(C)-1\n",
    "            acct_quicksort(C,0,x, acct)\n",
    "            \n",
    "        results.append(acct.steps)\n",
    "        \n",
    "    return results"
   ]
  },
  {
   "cell_type": "code",
   "execution_count": 232,
   "metadata": {
    "collapsed": false
   },
   "outputs": [
    {
     "name": "stdout",
     "output_type": "stream",
     "text": [
      "[0, 3, 10, 14, 42, 68, 80, 114, 112, 125]\n"
     ]
    }
   ],
   "source": [
    "print exper_analysis(10)"
   ]
  },
  {
   "cell_type": "markdown",
   "metadata": {},
   "source": [
    "# Análisis teórico"
   ]
  },
  {
   "cell_type": "code",
   "execution_count": 233,
   "metadata": {
    "collapsed": true
   },
   "outputs": [],
   "source": [
    "def analisisTeorico(n):\n",
    "    \n",
    "    results = []\n",
    "    acct = Counter()\n",
    "    \n",
    "    for i in range(n):\n",
    "        l=0\n",
    "        \n",
    "        if i > 1:\n",
    "            l = i * i\n",
    "            \n",
    "        results.append(l)\n",
    "        \n",
    "    return results"
   ]
  },
  {
   "cell_type": "code",
   "execution_count": 234,
   "metadata": {
    "collapsed": false
   },
   "outputs": [
    {
     "name": "stdout",
     "output_type": "stream",
     "text": [
      "[0, 0, 4, 9, 16, 25, 36, 49, 64, 81]\n"
     ]
    }
   ],
   "source": [
    "print analisisTeorico (10)"
   ]
  },
  {
   "cell_type": "markdown",
   "metadata": {},
   "source": [
    "# Análisis tiempo de ejecución"
   ]
  },
  {
   "cell_type": "code",
   "execution_count": 235,
   "metadata": {
    "collapsed": true
   },
   "outputs": [],
   "source": [
    "import random as rnd\n",
    "import time\n",
    "\n",
    "def tiempoEjecucion(n):\n",
    "    results = []\n",
    "    \n",
    "    for i in range(n):\n",
    "        rel = 0\n",
    "        \n",
    "        if i > 0 :\n",
    "            l = range(i)\n",
    "            rnd.shuffle(l)\n",
    "            C =list(l)\n",
    "            tic = time.clock()\n",
    "            x=len(C)-1\n",
    "            quicksort(C,0,x)\n",
    "            toc = time.clock()\n",
    "            rel = (toc-tic)*100000000\n",
    "        results.append(rel)\n",
    "    return results"
   ]
  },
  {
   "cell_type": "code",
   "execution_count": 236,
   "metadata": {
    "collapsed": false
   },
   "outputs": [
    {
     "name": "stdout",
     "output_type": "stream",
     "text": [
      "[0, 236.8540663155727, 157.90265024406835, 1263.2213838514872, 236.8540663155727, 394.75671655964106, 552.6593668037094, 789.5134331192821, 750.03772508353, 750.03772508353]\n"
     ]
    }
   ],
   "source": [
    "print tiempoEjecucion(10)"
   ]
  },
  {
   "cell_type": "code",
   "execution_count": 237,
   "metadata": {
    "collapsed": false
   },
   "outputs": [
    {
     "data": {
      "text/plain": [
       "[<matplotlib.lines.Line2D at 0x9e5d9e8>]"
      ]
     },
     "execution_count": 237,
     "metadata": {},
     "output_type": "execute_result"
    },
    {
     "data": {
      "image/png": "[encoded data removed]",
      "text/plain": [
       "<matplotlib.figure.Figure at 0x9cecf28>"
      ]
     },
     "metadata": {},
     "output_type": "display_data"
    }
   ],
   "source": [
    "pl.clf()\n",
    "xname = pl.xlabel('tamano')\n",
    "yname = pl.ylabel('pasos')\n",
    "x = np.arange(100)\n",
    "#Numero de operaciones \n",
    "y = np.array(exper_analysis(100)) \n",
    "pl.plot(x, y, 'r--', color ='r')\n",
    "#Tiempo de ejecucion \n",
    "z = np.array(tiempoEjecucion(100))\n",
    "pl.plot(x, z, 'g^', color='c')\n",
    "#Tiempo teorico\n",
    "w = np.array(analisisTeorico(100))\n",
    "pl.plot(x, w, '.k', color='g')"
   ]
  }
 ],
 "metadata": {
  "anaconda-cloud": {},
  "kernelspec": {
   "display_name": "Python 2",
   "language": "python",
   "name": "python2"
  },
  "language_info": {
   "codemirror_mode": {
    "name": "ipython",
    "version": 2
   },
   "file_extension": ".py",
   "mimetype": "text/x-python",
   "name": "python",
   "nbconvert_exporter": "python",
   "pygments_lexer": "ipython2",
   "version": "2.7.13"
  }
 },
 "nbformat": 4,
 "nbformat_minor": 0
}
