{
 "cells": [
  {
   "cell_type": "markdown",
   "metadata": {},
   "source": [
    "# Taller 6"
   ]
  },
  {
   "cell_type": "code",
   "execution_count": 240,
   "metadata": {
    "collapsed": false
   },
   "outputs": [],
   "source": [
    "import numpy as np"
   ]
  },
  {
   "cell_type": "code",
   "execution_count": 241,
   "metadata": {
    "collapsed": true
   },
   "outputs": [],
   "source": [
    "def algoritmoFloydWarshall_imp(var):\n",
    "    \n",
    "    n = var.shape[0]\n",
    "    lista1 = []\n",
    "    lista1.append(var[:,:])\n",
    "    \n",
    "    for k in range(n):        \n",
    "        aux = lista1[k][:,:]\n",
    "        \n",
    "        for i in range(n):\n",
    "            for j in range(n):\n",
    "                \n",
    "                aux[i,j] = min(lista1[k][i,j], lista1[k][i,k]+lista1[k][k,j])        \n",
    "        lista1.append(np.copy(aux))\n",
    "        \n",
    "    return aux, lista1"
   ]
  },
  {
   "cell_type": "markdown",
   "metadata": {},
   "source": [
    "## algoritmoDijkstra"
   ]
  },
  {
   "cell_type": "code",
   "execution_count": 246,
   "metadata": {
    "collapsed": true
   },
   "outputs": [],
   "source": [
    "from heapq import heappush, heappop\n",
    "\n",
    "def actualizarPila(heap,d,v):\n",
    "    \n",
    "    for i in range(len(heap)):\n",
    "        if heap[i][1] == v:\n",
    "            \n",
    "            heap[i][0] = d\n",
    "            pilaMethod(heap,i)     \n",
    "            \n",
    "            break    \n",
    "\n",
    "            \n",
    "#################################################################\n",
    "                   \n",
    "    \n",
    "def pilaMethod(heap, i):\n",
    "    \n",
    "    if i == 0: return  \n",
    "    \n",
    "    p = int(i/2) \n",
    "    \n",
    "    if p >= 0 and heap[p][0] > heap[i][0]:\n",
    "        \n",
    "        heap[i], heap[p] = heap[p], heap[i]\n",
    "        pilaMethod(heap,p)   \n",
    "\n",
    "            \n",
    "#################################################################\n",
    "                   \n",
    "           \n",
    "def algoritmoDijkstra(G,inicio):\n",
    "        \n",
    "    D = {} \n",
    "    \n",
    "    for v in G:\n",
    "        D[v] = float('inf')\n",
    "        \n",
    "    D[inicio] = 0\n",
    "    \n",
    "    P = {} \n",
    "    \n",
    "    Q=[] \n",
    "    \n",
    "    for v in G:\n",
    "        \n",
    "        item = []\n",
    "        item.append(D[v])\n",
    "        item.append(v)\n",
    "        heappush(Q,item)\n",
    "\n",
    "        \n",
    "    while Q:\n",
    "        \n",
    "        u = heappop(Q)[1]\n",
    "      \n",
    "        for v in G[u]:\n",
    "            \n",
    "            aux2 = D[u] + G[u][v]\n",
    "            \n",
    "            if aux2 < D[v]:\n",
    "                \n",
    "                P[v] = u\n",
    "                D[v] = aux2\n",
    "                actualizarPila(Q,D[v],v)\n",
    "                \n",
    "    return D,P"
   ]
  },
  {
   "cell_type": "code",
   "execution_count": 247,
   "metadata": {
    "collapsed": false
   },
   "outputs": [],
   "source": [
    "\n",
    "def caminoMasCorto(G,inicio,end,method):\n",
    "\n",
    "    if nombreAlgoritmo==  'algoritmoDijkstra':\n",
    "        D,P = algoritmoDijkstra(G,inicio)\n",
    "        \n",
    "        \n",
    "    elif nombreAlgoritmo== 'algoritmoBellmanFord':\n",
    "        D,P = algoritmoBellmanFordFord(G,inicio)\n",
    "        \n",
    "        \n",
    "    else:\n",
    "        D,P = algoritmoDijkstra(G,inicio)\n",
    "    \n",
    "    Path = []\n",
    "    \n",
    "    \n",
    "    while 1:\n",
    "        Path.append(end)\n",
    "        \n",
    "        \n",
    "        if fin== inicio: break\n",
    "        fin= P[end]\n",
    "        \n",
    "    Path.reverse()\n",
    "    \n",
    "    return Path\n"
   ]
  },
  {
   "cell_type": "markdown",
   "metadata": {},
   "source": [
    "## algoritmoBellmanFordFord"
   ]
  },
  {
   "cell_type": "code",
   "execution_count": 249,
   "metadata": {
    "collapsed": true
   },
   "outputs": [],
   "source": [
    "def algoritmoBellmanFordFord(G,inicio):\n",
    "    \n",
    "    D = {} \n",
    "    \n",
    "    for v in G:\n",
    "        D[v] = float('inf')\n",
    "    D[inicio] = 0\n",
    "    \n",
    "    P = {} \n",
    "    \n",
    "    for i in range(len(G)-1):\n",
    "        \n",
    "        for u in G:\n",
    "            \n",
    "            for v in G[u]:   \n",
    "                \n",
    "                newDv = D[u] + G[u][v]\n",
    "                \n",
    "                if newDv < D[v]:\n",
    "                    \n",
    "                    P[v] = u\n",
    "                    D[v] = newDv\n",
    "    \n",
    "    for u in G:\n",
    "        for v in G[u]:   \n",
    "            \n",
    "            newDv = D[u] + G[u][v]\n",
    "            \n",
    "            if newDv < D[v]: print(\"Negative cicle\",u,v)\n",
    "                \n",
    "    return D,P\n"
   ]
  },
  {
   "cell_type": "markdown",
   "metadata": {},
   "source": [
    "<h1>Enunciado</h1>\n",
    " <ol>\n",
    "  <li>Implemente un método para crear grafos aleatorios de $n$ vertices, donde con probabilidad $\\psi \\in [0,1]$ definira si exite una arista entre cada par de vertices $(i,j)$. El peso $\\omega(i,j) \\in [minw, maxw]$ se asignará de manera aleatoria uniformemente en el intervalo $[minw, maxw]$</li>\n",
    "  <li>Adapte el algoritmo de algoritmoDijkstra para calcular todos los pares de rutas más cortas</li>\n",
    "  <li>Adapte el algoritmo de algoritmoBellmanFord-Ford para calcular todos los pares de rutas más cortas</li>\n",
    "\n",
    "</ol> "
   ]
  },
  {
   "cell_type": "markdown",
   "metadata": {},
   "source": [
    "# Solucion "
   ]
  },
  {
   "cell_type": "markdown",
   "metadata": {},
   "source": [
    "<h2> Punto No. 1</h2>"
   ]
  },
  {
   "cell_type": "code",
   "execution_count": 279,
   "metadata": {
    "collapsed": false
   },
   "outputs": [],
   "source": [
    "import random\n",
    "\n",
    "def crearGrafo(omega, n, minw, maxw):\n",
    "    G = {};\n",
    "    auxMatriz = np.ones((n , n) ) * float('inf')\n",
    "    \n",
    "    for i in range(n):\n",
    "        x = {};\n",
    "        \n",
    "        for j in range(n):\n",
    "            \n",
    "            if i <> j:\n",
    "                \n",
    "                a = random.randrange(0.0,100.0)\n",
    "                b = a/100.0\n",
    "                \n",
    "                if(b > omega):\n",
    "                    \n",
    "                    peso = random.randrange(minw,maxw)\n",
    "                    x[str(j)] = peso;\n",
    "                    auxMatriz[i,j] = peso;\n",
    "                    \n",
    "            else:\n",
    "                auxMatriz[i,j] = 0;\n",
    "        G[str(i)] = x;\n",
    "    \n",
    "    return G, auxMatriz            \n",
    "            \n",
    "        "
   ]
  },
  {
   "cell_type": "markdown",
   "metadata": {},
   "source": [
    "<h2> Punto No. 2 </h2>"
   ]
  },
  {
   "cell_type": "code",
   "execution_count": 281,
   "metadata": {
    "collapsed": false
   },
   "outputs": [],
   "source": [
    "from heapq import heappush, heappop\n",
    "\n",
    "def actualizarPila(heap,d,v):\n",
    "    \n",
    "    for i in range(len(heap)):\n",
    "        \n",
    "        if heap[i][1] == v:\n",
    "            \n",
    "            heap[i][0] = d\n",
    "            pilaMethod(heap,i)\n",
    "            \n",
    "            break    \n",
    "\n",
    "            \n",
    "#################################################################\n",
    "                   \n",
    "    \n",
    "def pilaMethod(heap, i):\n",
    "    \n",
    "    if i == 0: return  \n",
    "    p = int(i/2) \n",
    "    \n",
    "    if p >= 0 and heap[p][0] > heap[i][0]:\n",
    "        \n",
    "        heap[i], heap[p] = heap[p], heap[i]\n",
    "        pilaMethod(heap,p)   \n",
    "            \n",
    "            \n",
    "#################################################################\n",
    "                   \n",
    "          \n",
    "def algoritmoDijkstra(G,inicio):\n",
    "        \n",
    "    D = {} \n",
    "    \n",
    "    for v in G:\n",
    "        D[v] = float('inf')\n",
    "        \n",
    "    D[inicio] = 0\n",
    "    \n",
    "    P = {}\n",
    "    \n",
    "    Q=[]\n",
    "    for v in G:\n",
    "        \n",
    "        item = []\n",
    "        item.append(D[v])\n",
    "        item.append(v)\n",
    "        heappush(Q,item)\n",
    "    \n",
    "    \n",
    "\n",
    "    while Q:\n",
    "        \n",
    "        u = heappop(Q)[1]\n",
    "\n",
    "        for v in G[u]:\n",
    "            aux2 = D[u] + G[u][v]\n",
    "            \n",
    "            if aux2 < D[v]:\n",
    "                \n",
    "                P[v] = u\n",
    "                D[v] = aux2\n",
    "                \n",
    "                actualizarPila(Q,D[v],v)\n",
    "                \n",
    "    return D,P\n",
    "\n",
    "            \n",
    "#################################################################\n",
    "                   \n",
    "    \n",
    "def algoritmoDijkstraTodos(G):\n",
    "    \n",
    "    T={};\n",
    "    \n",
    "    for n in G:\n",
    "        \n",
    "        D,P = algoritmoDijkstra(G, n);\n",
    "        T[n] = D;\n",
    "        \n",
    "    return T;\n",
    "    \n",
    "    \n"
   ]
  },
  {
   "cell_type": "markdown",
   "metadata": {},
   "source": [
    "<h2> Punto No. 3 </h2>"
   ]
  },
  {
   "cell_type": "code",
   "execution_count": 283,
   "metadata": {
    "collapsed": true
   },
   "outputs": [],
   "source": [
    "def algoritmoBellmanFordFord(G,inicio):\n",
    "    \n",
    "    D = {} \n",
    "    for v in G:\n",
    "        D[v] = float('inf')\n",
    "    D[inicio] = 0\n",
    "    \n",
    "    P = {} \n",
    "    \n",
    "    for i in range(len(G)-1):\n",
    "        for u in G:\n",
    "            for v in G[u]:   \n",
    "                newDv = D[u] + G[u][v]\n",
    "                if newDv < D[v]:\n",
    "                    P[v] = u\n",
    "                    D[v] = newDv\n",
    "    \n",
    "    for u in G:\n",
    "        for v in G[u]:   \n",
    "            newDv = D[u] + G[u][v]\n",
    "            if newDv < D[v]: print(\"Negative cicle\",u,v)\n",
    "                \n",
    "    return D,P\n",
    "\n",
    "            \n",
    "#################################################################\n",
    "                   \n",
    "    \n",
    "def algoritmoBellmanFordFordTodos(G):\n",
    "    \n",
    "    T={};\n",
    "    for n in G:\n",
    "        D,P = algoritmoBellmanFordFord(G, n);\n",
    "        T[n] = D;\n",
    "    return T;"
   ]
  }
 ],
 "metadata": {
  "anaconda-cloud": {},
  "kernelspec": {
   "display_name": "Python 2",
   "language": "python",
   "name": "python2"
  },
  "language_info": {
   "codemirror_mode": {
    "name": "ipython",
    "version": 2
   },
   "file_extension": ".py",
   "mimetype": "text/x-python",
   "name": "python",
   "nbconvert_exporter": "python",
   "pygments_lexer": "ipython2",
   "version": "2.7.13"
  }
 },
 "nbformat": 4,
 "nbformat_minor": 0
}
