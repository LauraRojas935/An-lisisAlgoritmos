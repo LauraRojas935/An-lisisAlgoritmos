{
 "cells": [
  {
   "cell_type": "markdown",
   "metadata": {},
   "source": [
    "# Parcial 3"
   ]
  },
  {
   "cell_type": "markdown",
   "metadata": {},
   "source": [
    "Elaborado por: Laura Camila Rojas Valbuena"
   ]
  },
  {
   "cell_type": "markdown",
   "metadata": {},
   "source": [
    "Parte B - Practica"
   ]
  },
  {
   "cell_type": "markdown",
   "metadata": {},
   "source": [
    "1.Describa un algoritmo que determine en tiempo O(n2 lg n) si existen tres puntos colineales de un\n",
    "conjunto de n puntos dados."
   ]
  },
  {
   "cell_type": "code",
   "execution_count": 18,
   "metadata": {
    "collapsed": true
   },
   "outputs": [],
   "source": [
    "import math\n",
    "import numpy as np\n",
    "%matplotlib inline\n",
    "from matplotlib import pyplot as plt\n",
    "from matplotlib.path import Path\n",
    "from matplotlib.patches import PathPatch\n",
    "\n",
    "def punto1(puntos):\n",
    "    \n",
    "    longitud = len(puntos)\n",
    "    \n",
    "    filcol = np.zeros((longitud,longitud))\n",
    "    #Recorrido por filas y columnas\n",
    "    for filas in range(longitud):\n",
    "        for columnas in range(longitud):\n",
    "            \n",
    "            if filas != columnas:\n",
    "                \n",
    "                if puntos[columnas][0] - puntos[filas][0] != 0:\n",
    "                    filcol[filas][columnas] = (puntos[columnas][1] - puntos[filas][1]) / (puntos[columnas][0] - puntos[filas][0])\n",
    "                \n",
    "                else:\n",
    "                    filcol[filas][columnas] = -float('inf')\n",
    "                    \n",
    "            else:\n",
    "                filcol[filas][columnas] = -float('inf')\n",
    "\n",
    "    dict = {}\n",
    "    \n",
    "    #Recorrido por filas y columnas\n",
    "    for aux1 in range(longitud):\n",
    "        for aux2 in range(longitud):\n",
    "            \n",
    "            if aux1 != aux2:\n",
    "                \n",
    "                if filcol[aux1][aux2] != -float('inf'):\n",
    "                    \n",
    "                    if (dict.get(filcol[aux1][aux2])):\n",
    "                        \n",
    "                        return True\n",
    "                    else:\n",
    "                        dict[filcol[aux1][aux2]] = 1\n",
    "                        \n",
    "        dict.clear()\n",
    "        \n",
    "    return False"
   ]
  },
  {
   "cell_type": "code",
   "execution_count": 23,
   "metadata": {
    "collapsed": false
   },
   "outputs": [
    {
     "name": "stdout",
     "output_type": "stream",
     "text": [
      "********* Prueba 1 *********\n",
      "Con exactamente tres puntos colineales\n",
      "\n",
      "Los puntos existen\n"
     ]
    }
   ],
   "source": [
    "print \"********* Prueba 1 *********\"\n",
    "print \"Con exactamente tres puntos colineales\"\n",
    "print\n",
    "puntos=[]\n",
    "\n",
    "PuntoA = [1.,1.]\n",
    "puntos.append(PuntoA)\n",
    "\n",
    "PuntoB = [5.,5.]\n",
    "puntos.append(PuntoB)\n",
    "\n",
    "PuntoC = [20.,20.]\n",
    "puntos.append(PuntoC)\n",
    "\n",
    "existe = punto1(puntos)\n",
    "\n",
    "if existe:\n",
    "    print ('Los puntos existen')\n",
    "    \n",
    "else:\n",
    "    print ('Los puntos no existen, intenta de nuevo')"
   ]
  },
  {
   "cell_type": "code",
   "execution_count": 27,
   "metadata": {
    "collapsed": false
   },
   "outputs": [
    {
     "name": "stdout",
     "output_type": "stream",
     "text": [
      "********* Prueba 2 *********\n",
      "Con mas de tres puntos colineales y otros adicionales\n",
      "\n",
      "Los puntos existen\n"
     ]
    }
   ],
   "source": [
    "print \"********* Prueba 2 *********\"\n",
    "print \"Con mas de tres puntos colineales y otros adicionales\"\n",
    "print\n",
    "puntos=[]\n",
    "\n",
    "PuntoA = [0.,0.]\n",
    "puntos.append(PuntoA)\n",
    "\n",
    "PuntoB = [3.,4.]\n",
    "puntos.append(PuntoB)\n",
    "\n",
    "PuntoC = [-8.,9.]\n",
    "puntos.append(PuntoC)\n",
    "\n",
    "PuntoD = [6.,-5.]\n",
    "puntos.append(PuntoD)\n",
    "\n",
    "PuntoE = [7.,7.]\n",
    "puntos.append(PuntoE)\n",
    "\n",
    "PuntoF = [4.,4.]\n",
    "puntos.append(PuntoF)\n",
    "\n",
    "existe = punto1(puntos)\n",
    "\n",
    "if existe:\n",
    "    print ('Los puntos existen')\n",
    "    \n",
    "else:\n",
    "    print ('Los puntos no existen, intenta de nuevo')"
   ]
  },
  {
   "cell_type": "code",
   "execution_count": 24,
   "metadata": {
    "collapsed": false
   },
   "outputs": [
    {
     "name": "stdout",
     "output_type": "stream",
     "text": [
      "********* Prueba 3 *********\n",
      "Con menos de tres puntos colineales y otros adicionales\n",
      "\n",
      "Los puntos no existen, intenta de nuevo\n"
     ]
    }
   ],
   "source": [
    "print \"********* Prueba 3 *********\"\n",
    "print \"Con menos de tres puntos colineales y otros adicionales\"\n",
    "print\n",
    "puntos=[]\n",
    "\n",
    "PuntoA = [0.,0.]\n",
    "puntos.append(PuntoA)\n",
    "\n",
    "PuntoB = [3.,4.]\n",
    "puntos.append(PuntoB)\n",
    "\n",
    "PuntoC = [-8.,9.]\n",
    "puntos.append(PuntoC)\n",
    "\n",
    "PuntoD = [6.,-5.]\n",
    "puntos.append(PuntoD)\n",
    "\n",
    "PuntoE = [78.,22.]\n",
    "puntos.append(PuntoE)\n",
    "\n",
    "PuntoF = [7.,8.]\n",
    "puntos.append(PuntoF)\n",
    "\n",
    "PuntoG = [4.,8.]\n",
    "puntos.append(PuntoG)\n",
    "\n",
    "existe = punto1(puntos)\n",
    "\n",
    "if existe:\n",
    "    print ('Los puntos existen')\n",
    "    \n",
    "else:\n",
    "    print ('Los puntos no existen, intenta de nuevo')"
   ]
  },
  {
   "cell_type": "markdown",
   "metadata": {},
   "source": [
    "2.Diseñe un algoritmo que en tiempo O(n lg n) pueda determinar si un poligono definido por una\n",
    "secuencia de n puntos es simple (sus segmentos no se intersectan entre si)."
   ]
  },
  {
   "cell_type": "code",
   "execution_count": 10,
   "metadata": {
    "collapsed": true
   },
   "outputs": [],
   "source": [
    "class comprobacionSegmentos:\n",
    "    def  __init__(self,x,y):\n",
    "        self.x = x;\n",
    "        self.y = y;"
   ]
  },
  {
   "cell_type": "code",
   "execution_count": 17,
   "metadata": {
    "collapsed": true
   },
   "outputs": [],
   "source": [
    "\n",
    "def verificacionInterseccionPtos(puntoA,puntoB,puntoC,puntoD):\n",
    "    \n",
    "    if(puntoB[0] - puntoA[0] == 0 ):\n",
    "        aux4 = ( puntoB [0] - puntoA [0] )/( puntoB [1] - puntoA [1] )\n",
    "    else:\n",
    "        aux4=(puntoB[1] - puntoA[1])/(puntoB[0] - puntoA[0])\n",
    "        \n",
    "    if(puntoD[0] - puntoC[0] == 0):\n",
    "        aux3=(puntoD[0] - puntoC[0])/(puntoD[1] - puntoC[1])\n",
    "        \n",
    "    else:\n",
    "        aux3=(puntoD[1] - puntoC[1])/(puntoD[0] - puntoC[0])\n",
    "        \n",
    "    aux1 = puntoA[1] - ( aux4 * puntoA[0] )\n",
    "    aux2 = puntoC[1] - ( aux3 * puntoC[0] )\n",
    "    \n",
    "    if(aux4-aux3!=0):\n",
    "        var=(aux3 - aux1)/(aux4 - aux3)\n",
    "        var2=(aux4 * var) + aux1\n",
    "        \n",
    "        return var,var2\n",
    "        \n",
    "    else:\n",
    "        return -10,-10\n",
    "\n",
    "def simple(poli):\n",
    "\n",
    "    segmentos=[]\n",
    "    esSimple=1;\n",
    "    \n",
    "    for p in range(len(poli) - 1):\n",
    "        segmento = comprobacionSegmentos(poli[p],poli[p + 1]);\n",
    "        \n",
    "        segmentos.append(segmento)\n",
    "        \n",
    "    segmento= comprobacionSegmentos(poli[0], poli[len(poli) - 1])\n",
    "    segmentos.append(segmento)    \n",
    "\n",
    "    for l in range(len(segmentos)-1):\n",
    "        aux4=segmentos[l]\n",
    "        puntoA = aux4.x\n",
    "        puntoB = aux4.y\n",
    "        \n",
    "        for l1 in range(l + 1, len(segmentos) - 1):\n",
    "            aux3= segmentos[l1]\n",
    "            puntoC= aux3.x\n",
    "            puntoD= aux3.y\n",
    "            var,var2 = verificacionInterseccionPtos(puntoA,puntoB,puntoC,puntoD)\n",
    "            \n",
    "            if(var!= -10):\n",
    "                pp=[var,var2]\n",
    "                \n",
    "                if(puntoB == pp or puntoA == pp or puntoD == pp):\n",
    "                    esSimple=1\n",
    "                    \n",
    "                else:\n",
    "                    return \"No es un poligono simple\"\n",
    "                \n",
    "    if(esSimple == 1):\n",
    "        return \"Es un poligono simple\";"
   ]
  },
  {
   "cell_type": "code",
   "execution_count": 19,
   "metadata": {
    "collapsed": false
   },
   "outputs": [
    {
     "name": "stdout",
     "output_type": "stream",
     "text": [
      "///////////////// Prueba 1 /////////////////\n",
      "No es un poligono simple\n"
     ]
    }
   ],
   "source": [
    "print \"///////////////// Prueba 1 /////////////////\"\n",
    "\n",
    "puntoA=[0,0]\n",
    "puntoB=[2,2]\n",
    "puntoC=[3,1]\n",
    "puntoD=[0.5,1]\n",
    "\n",
    "poli=[puntoA,puntoB,puntoC,puntoD]\n",
    "print (simple(poli))"
   ]
  },
  {
   "cell_type": "code",
   "execution_count": 21,
   "metadata": {
    "collapsed": false
   },
   "outputs": [
    {
     "name": "stdout",
     "output_type": "stream",
     "text": [
      "///////////////// Prueba 2 /////////////////\n",
      "Es un poligono simple\n"
     ]
    }
   ],
   "source": [
    "print \"///////////////// Prueba 2 /////////////////\"\n",
    "\n",
    "puntoA=[0,0]\n",
    "puntoB=[1,1]\n",
    "puntoC=[2,2]\n",
    "puntoD=[1,1]\n",
    "\n",
    "poli=[puntoA,puntoB,puntoC,puntoD]\n",
    "print (simple(poli))"
   ]
  }
 ],
 "metadata": {
  "kernelspec": {
   "display_name": "Python 2",
   "language": "python",
   "name": "python2"
  },
  "language_info": {
   "codemirror_mode": {
    "name": "ipython",
    "version": 2
   },
   "file_extension": ".py",
   "mimetype": "text/x-python",
   "name": "python",
   "nbconvert_exporter": "python",
   "pygments_lexer": "ipython2",
   "version": "2.7.13"
  }
 },
 "nbformat": 4,
 "nbformat_minor": 2
}
